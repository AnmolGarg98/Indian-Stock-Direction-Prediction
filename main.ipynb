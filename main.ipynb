{
 "cells": [
  {
   "cell_type": "code",
   "execution_count": 3,
   "metadata": {},
   "outputs": [],
   "source": [
    "import math\n",
    "import numpy as np\n",
    "import pandas as pd\n",
    "pd.set_option('display.max_rows', 500)\n",
    "\n",
    "import yfinance as yf\n",
    "\n",
    "import torch\n",
    "import torch.nn as nn\n",
    "import torch.optim as optim\n",
    "from sklearn.preprocessing import MinMaxScaler\n",
    "from torchsummary import summary\n",
    "\n"
   ]
  },
  {
   "cell_type": "code",
   "execution_count": 4,
   "metadata": {},
   "outputs": [],
   "source": [
    "from tqdm import tqdm"
   ]
  },
  {
   "cell_type": "code",
   "execution_count": 5,
   "metadata": {},
   "outputs": [],
   "source": [
    "from transformer_model import TransformerModel\n",
    "from dataset import Dataset"
   ]
  },
  {
   "cell_type": "code",
   "execution_count": 6,
   "metadata": {},
   "outputs": [],
   "source": [
    "def calculate_bollinger_bands(data, window=10, num_of_std=2):\n",
    "    \"\"\"Calculate Bollinger Bands\"\"\"\n",
    "    rolling_mean = data.rolling(window=window).mean()\n",
    "    rolling_std = data.rolling(window=window).std()\n",
    "    upper_band = rolling_mean + (rolling_std * num_of_std)\n",
    "    lower_band = rolling_mean - (rolling_std * num_of_std)\n",
    "    return upper_band, lower_band\n",
    "\n",
    "def calculate_rsi(data, window=10):\n",
    "    \"\"\"Calculate Relative Strength Index\"\"\"\n",
    "    delta = data.diff()\n",
    "    gain = delta.clip(lower=0)\n",
    "    loss = -delta.clip(upper=0)\n",
    "    avg_gain = gain.rolling(window=window, min_periods=1).mean()\n",
    "    avg_loss = loss.rolling(window=window, min_periods=1).mean()\n",
    "    rs = avg_gain / avg_loss\n",
    "    rsi = 100 - (100 / (1 + rs))\n",
    "    return rsi\n",
    "\n",
    "def calculate_roc(data, periods=10):\n",
    "    \"\"\"Calculate Rate of Change.\"\"\"\n",
    "    roc = ((data - data.shift(periods)) / data.shift(periods)) * 100\n",
    "    return roc"
   ]
  },
  {
   "cell_type": "code",
   "execution_count": 7,
   "metadata": {},
   "outputs": [],
   "source": [
    "tickers = ['TCS', 'WIPRO', 'HCLTECH', 'INFY', 'LTIM', 'TECHM']"
   ]
  },
  {
   "cell_type": "code",
   "execution_count": 8,
   "metadata": {},
   "outputs": [
    {
     "name": "stderr",
     "output_type": "stream",
     "text": [
      "[*********************100%%**********************]  1 of 1 completed\n",
      "[*********************100%%**********************]  1 of 1 completed\n",
      "[*********************100%%**********************]  1 of 1 completed\n",
      "[*********************100%%**********************]  1 of 1 completed\n",
      "[*********************100%%**********************]  1 of 1 completed\n",
      "[*********************100%%**********************]  1 of 1 completed\n"
     ]
    }
   ],
   "source": [
    "ticker_data_frames = []\n",
    "stats = {}\n",
    "for ticker in tickers:\n",
    "    ticker = ticker + '.NS'\n",
    "    # Download historical data for the ticker\n",
    "    data = yf.download(ticker, period=\"10y\", interval=\"1d\")\n",
    "    # Calculate the daily percentage change\n",
    "    close = data['Close']\n",
    "    high = data['High']\n",
    "    low = data['Low']\n",
    "    upper, lower = calculate_bollinger_bands(close, window=14, num_of_std=2)\n",
    "    width = upper - lower\n",
    "    rsi = calculate_rsi(close, window=14)\n",
    "    roc = calculate_roc(close, periods=14)\n",
    "    volume = data['Volume']\n",
    "    diff = data['Close'].diff(1)\n",
    "    percent_change_close = data['Close'].pct_change() * 100\n",
    "\n",
    "    # Create a DataFrame for the current ticker and append it to the list\n",
    "    ticker_df = pd.DataFrame({\n",
    "        ticker+'_close': close,\n",
    "        ticker+'_high': high,\n",
    "        ticker+'_low': low,\n",
    "        ticker+'_width': width,\n",
    "        ticker+'_rsi': rsi,\n",
    "        ticker+'_roc': roc,\n",
    "        ticker+'_volume': volume,\n",
    "        ticker+'_diff': diff,\n",
    "        ticker+'_percent_change_close': percent_change_close,\n",
    "    })\n",
    "    \n",
    "    MEAN = ticker_df.mean()\n",
    "    STD = ticker_df.std()\n",
    "\n",
    "    # Keep track of mean and std\n",
    "    for column in MEAN.index:\n",
    "      stats[f\"{column}_mean\"] = MEAN[column]\n",
    "      stats[f\"{column}_std\"] = STD[column]\n",
    "    \n",
    "    # # Normalize the training features\n",
    "    # ticker_df = (ticker_df - MEAN) / STD\n",
    "\n",
    "    ticker_data_frames.append(ticker_df)"
   ]
  },
  {
   "cell_type": "code",
   "execution_count": 9,
   "metadata": {},
   "outputs": [
    {
     "data": {
      "text/html": [
       "<div>\n",
       "<style scoped>\n",
       "    .dataframe tbody tr th:only-of-type {\n",
       "        vertical-align: middle;\n",
       "    }\n",
       "\n",
       "    .dataframe tbody tr th {\n",
       "        vertical-align: top;\n",
       "    }\n",
       "\n",
       "    .dataframe thead th {\n",
       "        text-align: right;\n",
       "    }\n",
       "</style>\n",
       "<table border=\"1\" class=\"dataframe\">\n",
       "  <thead>\n",
       "    <tr style=\"text-align: right;\">\n",
       "      <th></th>\n",
       "      <th>TCS.NS_close_mean</th>\n",
       "      <th>TCS.NS_close_std</th>\n",
       "      <th>TCS.NS_high_mean</th>\n",
       "      <th>TCS.NS_high_std</th>\n",
       "      <th>TCS.NS_low_mean</th>\n",
       "      <th>TCS.NS_low_std</th>\n",
       "      <th>TCS.NS_width_mean</th>\n",
       "      <th>TCS.NS_width_std</th>\n",
       "      <th>TCS.NS_rsi_mean</th>\n",
       "      <th>TCS.NS_rsi_std</th>\n",
       "      <th>...</th>\n",
       "      <th>TECHM.NS_rsi_mean</th>\n",
       "      <th>TECHM.NS_rsi_std</th>\n",
       "      <th>TECHM.NS_roc_mean</th>\n",
       "      <th>TECHM.NS_roc_std</th>\n",
       "      <th>TECHM.NS_volume_mean</th>\n",
       "      <th>TECHM.NS_volume_std</th>\n",
       "      <th>TECHM.NS_diff_mean</th>\n",
       "      <th>TECHM.NS_diff_std</th>\n",
       "      <th>TECHM.NS_percent_change_close_mean</th>\n",
       "      <th>TECHM.NS_percent_change_close_std</th>\n",
       "    </tr>\n",
       "  </thead>\n",
       "  <tbody>\n",
       "    <tr>\n",
       "      <th>0</th>\n",
       "      <td>2276.220146</td>\n",
       "      <td>972.562228</td>\n",
       "      <td>2298.934043</td>\n",
       "      <td>980.378417</td>\n",
       "      <td>2253.755093</td>\n",
       "      <td>964.575184</td>\n",
       "      <td>183.042906</td>\n",
       "      <td>114.157928</td>\n",
       "      <td>52.724255</td>\n",
       "      <td>16.496299</td>\n",
       "      <td>...</td>\n",
       "      <td>52.351421</td>\n",
       "      <td>16.870081</td>\n",
       "      <td>0.806511</td>\n",
       "      <td>6.697333</td>\n",
       "      <td>2.922437e+06</td>\n",
       "      <td>2.155744e+06</td>\n",
       "      <td>0.391756</td>\n",
       "      <td>16.08031</td>\n",
       "      <td>0.059683</td>\n",
       "      <td>1.860454</td>\n",
       "    </tr>\n",
       "  </tbody>\n",
       "</table>\n",
       "<p>1 rows × 108 columns</p>\n",
       "</div>"
      ],
      "text/plain": [
       "   TCS.NS_close_mean  TCS.NS_close_std  TCS.NS_high_mean  TCS.NS_high_std  \\\n",
       "0        2276.220146        972.562228       2298.934043       980.378417   \n",
       "\n",
       "   TCS.NS_low_mean  TCS.NS_low_std  TCS.NS_width_mean  TCS.NS_width_std  \\\n",
       "0      2253.755093      964.575184         183.042906        114.157928   \n",
       "\n",
       "   TCS.NS_rsi_mean  TCS.NS_rsi_std  ...  TECHM.NS_rsi_mean  TECHM.NS_rsi_std  \\\n",
       "0        52.724255       16.496299  ...          52.351421         16.870081   \n",
       "\n",
       "   TECHM.NS_roc_mean  TECHM.NS_roc_std  TECHM.NS_volume_mean  \\\n",
       "0           0.806511          6.697333          2.922437e+06   \n",
       "\n",
       "   TECHM.NS_volume_std  TECHM.NS_diff_mean  TECHM.NS_diff_std  \\\n",
       "0         2.155744e+06            0.391756           16.08031   \n",
       "\n",
       "   TECHM.NS_percent_change_close_mean  TECHM.NS_percent_change_close_std  \n",
       "0                            0.059683                           1.860454  \n",
       "\n",
       "[1 rows x 108 columns]"
      ]
     },
     "execution_count": 9,
     "metadata": {},
     "output_type": "execute_result"
    }
   ],
   "source": [
    "# Convert the dictionary containing feature statistics to a DataFrame for easier access\n",
    "stats = pd.DataFrame([stats], index=[0])\n",
    "\n",
    "# Display the DataFrame to verify its structure\n",
    "stats.head()"
   ]
  },
  {
   "cell_type": "code",
   "execution_count": 10,
   "metadata": {},
   "outputs": [
    {
     "data": {
      "text/html": [
       "<div>\n",
       "<style scoped>\n",
       "    .dataframe tbody tr th:only-of-type {\n",
       "        vertical-align: middle;\n",
       "    }\n",
       "\n",
       "    .dataframe tbody tr th {\n",
       "        vertical-align: top;\n",
       "    }\n",
       "\n",
       "    .dataframe thead th {\n",
       "        text-align: right;\n",
       "    }\n",
       "</style>\n",
       "<table border=\"1\" class=\"dataframe\">\n",
       "  <thead>\n",
       "    <tr style=\"text-align: right;\">\n",
       "      <th></th>\n",
       "      <th>TCS.NS_close</th>\n",
       "      <th>TCS.NS_high</th>\n",
       "      <th>TCS.NS_low</th>\n",
       "      <th>TCS.NS_width</th>\n",
       "      <th>TCS.NS_rsi</th>\n",
       "      <th>TCS.NS_roc</th>\n",
       "      <th>TCS.NS_volume</th>\n",
       "      <th>TCS.NS_diff</th>\n",
       "      <th>TCS.NS_percent_change_close</th>\n",
       "      <th>WIPRO.NS_close</th>\n",
       "      <th>...</th>\n",
       "      <th>LTIM.NS_percent_change_close</th>\n",
       "      <th>TECHM.NS_close</th>\n",
       "      <th>TECHM.NS_high</th>\n",
       "      <th>TECHM.NS_low</th>\n",
       "      <th>TECHM.NS_width</th>\n",
       "      <th>TECHM.NS_rsi</th>\n",
       "      <th>TECHM.NS_roc</th>\n",
       "      <th>TECHM.NS_volume</th>\n",
       "      <th>TECHM.NS_diff</th>\n",
       "      <th>TECHM.NS_percent_change_close</th>\n",
       "    </tr>\n",
       "    <tr>\n",
       "      <th>Date</th>\n",
       "      <th></th>\n",
       "      <th></th>\n",
       "      <th></th>\n",
       "      <th></th>\n",
       "      <th></th>\n",
       "      <th></th>\n",
       "      <th></th>\n",
       "      <th></th>\n",
       "      <th></th>\n",
       "      <th></th>\n",
       "      <th></th>\n",
       "      <th></th>\n",
       "      <th></th>\n",
       "      <th></th>\n",
       "      <th></th>\n",
       "      <th></th>\n",
       "      <th></th>\n",
       "      <th></th>\n",
       "      <th></th>\n",
       "      <th></th>\n",
       "      <th></th>\n",
       "    </tr>\n",
       "  </thead>\n",
       "  <tbody>\n",
       "    <tr>\n",
       "      <th>2016-08-10</th>\n",
       "      <td>1337.699951</td>\n",
       "      <td>1341.0</td>\n",
       "      <td>1324.000000</td>\n",
       "      <td>114.252292</td>\n",
       "      <td>78.192144</td>\n",
       "      <td>6.757641</td>\n",
       "      <td>2062078</td>\n",
       "      <td>12.599976</td>\n",
       "      <td>0.950870</td>\n",
       "      <td>203.493805</td>\n",
       "      <td>...</td>\n",
       "      <td>-1.152798</td>\n",
       "      <td>497.200012</td>\n",
       "      <td>504.000000</td>\n",
       "      <td>491.500000</td>\n",
       "      <td>27.128774</td>\n",
       "      <td>44.147423</td>\n",
       "      <td>-1.603003</td>\n",
       "      <td>1326514</td>\n",
       "      <td>-5.299988</td>\n",
       "      <td>-1.054724</td>\n",
       "    </tr>\n",
       "    <tr>\n",
       "      <th>2016-08-11</th>\n",
       "      <td>1354.949951</td>\n",
       "      <td>1357.5</td>\n",
       "      <td>1332.775024</td>\n",
       "      <td>102.181835</td>\n",
       "      <td>79.895674</td>\n",
       "      <td>7.745211</td>\n",
       "      <td>2233138</td>\n",
       "      <td>17.250000</td>\n",
       "      <td>1.289527</td>\n",
       "      <td>203.625046</td>\n",
       "      <td>...</td>\n",
       "      <td>-0.898227</td>\n",
       "      <td>500.100006</td>\n",
       "      <td>501.899994</td>\n",
       "      <td>495.299988</td>\n",
       "      <td>26.190954</td>\n",
       "      <td>46.652732</td>\n",
       "      <td>-0.950681</td>\n",
       "      <td>1681953</td>\n",
       "      <td>2.899994</td>\n",
       "      <td>0.583265</td>\n",
       "    </tr>\n",
       "  </tbody>\n",
       "</table>\n",
       "<p>2 rows × 54 columns</p>\n",
       "</div>"
      ],
      "text/plain": [
       "            TCS.NS_close  TCS.NS_high   TCS.NS_low  TCS.NS_width  TCS.NS_rsi  \\\n",
       "Date                                                                           \n",
       "2016-08-10   1337.699951       1341.0  1324.000000    114.252292   78.192144   \n",
       "2016-08-11   1354.949951       1357.5  1332.775024    102.181835   79.895674   \n",
       "\n",
       "            TCS.NS_roc  TCS.NS_volume  TCS.NS_diff  \\\n",
       "Date                                                 \n",
       "2016-08-10    6.757641        2062078    12.599976   \n",
       "2016-08-11    7.745211        2233138    17.250000   \n",
       "\n",
       "            TCS.NS_percent_change_close  WIPRO.NS_close  ...  \\\n",
       "Date                                                     ...   \n",
       "2016-08-10                     0.950870      203.493805  ...   \n",
       "2016-08-11                     1.289527      203.625046  ...   \n",
       "\n",
       "            LTIM.NS_percent_change_close  TECHM.NS_close  TECHM.NS_high  \\\n",
       "Date                                                                      \n",
       "2016-08-10                     -1.152798      497.200012     504.000000   \n",
       "2016-08-11                     -0.898227      500.100006     501.899994   \n",
       "\n",
       "            TECHM.NS_low  TECHM.NS_width  TECHM.NS_rsi  TECHM.NS_roc  \\\n",
       "Date                                                                   \n",
       "2016-08-10    491.500000       27.128774     44.147423     -1.603003   \n",
       "2016-08-11    495.299988       26.190954     46.652732     -0.950681   \n",
       "\n",
       "            TECHM.NS_volume  TECHM.NS_diff  TECHM.NS_percent_change_close  \n",
       "Date                                                                       \n",
       "2016-08-10          1326514      -5.299988                      -1.054724  \n",
       "2016-08-11          1681953       2.899994                       0.583265  \n",
       "\n",
       "[2 rows x 54 columns]"
      ]
     },
     "execution_count": 10,
     "metadata": {},
     "output_type": "execute_result"
    }
   ],
   "source": [
    "df = pd.concat(ticker_data_frames, axis=1)\n",
    "df.replace([np.inf, -np.inf], np.nan, inplace=True)\n",
    "df.dropna(inplace=True)\n",
    "df.head(2)"
   ]
  },
  {
   "cell_type": "markdown",
   "metadata": {},
   "source": [
    "* add date end\n",
    "* add time to sequence"
   ]
  },
  {
   "cell_type": "code",
   "execution_count": 11,
   "metadata": {},
   "outputs": [
    {
     "data": {
      "text/plain": [
       "(1959, 54)"
      ]
     },
     "execution_count": 11,
     "metadata": {},
     "output_type": "execute_result"
    }
   ],
   "source": [
    "df.shape"
   ]
  },
  {
   "cell_type": "code",
   "execution_count": 12,
   "metadata": {},
   "outputs": [
    {
     "data": {
      "text/html": [
       "<div>\n",
       "<style scoped>\n",
       "    .dataframe tbody tr th:only-of-type {\n",
       "        vertical-align: middle;\n",
       "    }\n",
       "\n",
       "    .dataframe tbody tr th {\n",
       "        vertical-align: top;\n",
       "    }\n",
       "\n",
       "    .dataframe thead th {\n",
       "        text-align: right;\n",
       "    }\n",
       "</style>\n",
       "<table border=\"1\" class=\"dataframe\">\n",
       "  <thead>\n",
       "    <tr style=\"text-align: right;\">\n",
       "      <th></th>\n",
       "      <th>TCS.NS_close</th>\n",
       "      <th>TCS.NS_high</th>\n",
       "      <th>TCS.NS_low</th>\n",
       "      <th>TCS.NS_width</th>\n",
       "      <th>TCS.NS_rsi</th>\n",
       "      <th>TCS.NS_roc</th>\n",
       "      <th>TCS.NS_volume</th>\n",
       "      <th>TCS.NS_diff</th>\n",
       "      <th>TCS.NS_percent_change_close</th>\n",
       "      <th>WIPRO.NS_close</th>\n",
       "      <th>...</th>\n",
       "      <th>LTIM.NS_percent_change_close</th>\n",
       "      <th>TECHM.NS_close</th>\n",
       "      <th>TECHM.NS_high</th>\n",
       "      <th>TECHM.NS_low</th>\n",
       "      <th>TECHM.NS_width</th>\n",
       "      <th>TECHM.NS_rsi</th>\n",
       "      <th>TECHM.NS_roc</th>\n",
       "      <th>TECHM.NS_volume</th>\n",
       "      <th>TECHM.NS_diff</th>\n",
       "      <th>TECHM.NS_percent_change_close</th>\n",
       "    </tr>\n",
       "    <tr>\n",
       "      <th>Date</th>\n",
       "      <th></th>\n",
       "      <th></th>\n",
       "      <th></th>\n",
       "      <th></th>\n",
       "      <th></th>\n",
       "      <th></th>\n",
       "      <th></th>\n",
       "      <th></th>\n",
       "      <th></th>\n",
       "      <th></th>\n",
       "      <th></th>\n",
       "      <th></th>\n",
       "      <th></th>\n",
       "      <th></th>\n",
       "      <th></th>\n",
       "      <th></th>\n",
       "      <th></th>\n",
       "      <th></th>\n",
       "      <th></th>\n",
       "      <th></th>\n",
       "      <th></th>\n",
       "    </tr>\n",
       "  </thead>\n",
       "  <tbody>\n",
       "    <tr>\n",
       "      <th>2016-08-11</th>\n",
       "      <td>1354.949951</td>\n",
       "      <td>1357.500000</td>\n",
       "      <td>1332.775024</td>\n",
       "      <td>102.181835</td>\n",
       "      <td>79.895674</td>\n",
       "      <td>7.745211</td>\n",
       "      <td>2233138</td>\n",
       "      <td>17.250000</td>\n",
       "      <td>1.289527</td>\n",
       "      <td>203.625046</td>\n",
       "      <td>...</td>\n",
       "      <td>-0.898227</td>\n",
       "      <td>500.100006</td>\n",
       "      <td>501.899994</td>\n",
       "      <td>495.299988</td>\n",
       "      <td>26.190954</td>\n",
       "      <td>46.652732</td>\n",
       "      <td>-0.950681</td>\n",
       "      <td>1681953</td>\n",
       "      <td>2.899994</td>\n",
       "      <td>0.583265</td>\n",
       "    </tr>\n",
       "    <tr>\n",
       "      <th>2016-08-12</th>\n",
       "      <td>1369.224976</td>\n",
       "      <td>1372.400024</td>\n",
       "      <td>1351.025024</td>\n",
       "      <td>102.742022</td>\n",
       "      <td>78.905037</td>\n",
       "      <td>7.014596</td>\n",
       "      <td>2327358</td>\n",
       "      <td>14.275024</td>\n",
       "      <td>1.053546</td>\n",
       "      <td>203.906296</td>\n",
       "      <td>...</td>\n",
       "      <td>0.168120</td>\n",
       "      <td>493.350006</td>\n",
       "      <td>504.000000</td>\n",
       "      <td>488.399994</td>\n",
       "      <td>23.730119</td>\n",
       "      <td>39.959991</td>\n",
       "      <td>-2.960265</td>\n",
       "      <td>3618973</td>\n",
       "      <td>-6.750000</td>\n",
       "      <td>-1.349730</td>\n",
       "    </tr>\n",
       "    <tr>\n",
       "      <th>2016-08-16</th>\n",
       "      <td>1345.849976</td>\n",
       "      <td>1370.000000</td>\n",
       "      <td>1336.925049</td>\n",
       "      <td>86.012825</td>\n",
       "      <td>69.820460</td>\n",
       "      <td>5.449340</td>\n",
       "      <td>3183754</td>\n",
       "      <td>-23.375000</td>\n",
       "      <td>-1.707170</td>\n",
       "      <td>201.187546</td>\n",
       "      <td>...</td>\n",
       "      <td>-0.474314</td>\n",
       "      <td>482.950012</td>\n",
       "      <td>491.750000</td>\n",
       "      <td>478.250000</td>\n",
       "      <td>27.134394</td>\n",
       "      <td>37.696684</td>\n",
       "      <td>-3.890545</td>\n",
       "      <td>2087382</td>\n",
       "      <td>-10.399994</td>\n",
       "      <td>-2.108036</td>\n",
       "    </tr>\n",
       "    <tr>\n",
       "      <th>2016-08-17</th>\n",
       "      <td>1312.275024</td>\n",
       "      <td>1349.500000</td>\n",
       "      <td>1309.000000</td>\n",
       "      <td>74.355524</td>\n",
       "      <td>55.978129</td>\n",
       "      <td>1.823437</td>\n",
       "      <td>1848566</td>\n",
       "      <td>-33.574951</td>\n",
       "      <td>-2.494702</td>\n",
       "      <td>197.925049</td>\n",
       "      <td>...</td>\n",
       "      <td>-0.439915</td>\n",
       "      <td>474.649994</td>\n",
       "      <td>487.000000</td>\n",
       "      <td>472.200012</td>\n",
       "      <td>33.304215</td>\n",
       "      <td>32.790712</td>\n",
       "      <td>-5.870105</td>\n",
       "      <td>913427</td>\n",
       "      <td>-8.300018</td>\n",
       "      <td>-1.718608</td>\n",
       "    </tr>\n",
       "    <tr>\n",
       "      <th>2016-08-18</th>\n",
       "      <td>1319.275024</td>\n",
       "      <td>1328.775024</td>\n",
       "      <td>1315.050049</td>\n",
       "      <td>71.159815</td>\n",
       "      <td>52.640951</td>\n",
       "      <td>0.736854</td>\n",
       "      <td>1292064</td>\n",
       "      <td>7.000000</td>\n",
       "      <td>0.533425</td>\n",
       "      <td>196.912552</td>\n",
       "      <td>...</td>\n",
       "      <td>-0.589145</td>\n",
       "      <td>469.500000</td>\n",
       "      <td>478.700012</td>\n",
       "      <td>468.250000</td>\n",
       "      <td>41.449764</td>\n",
       "      <td>38.923415</td>\n",
       "      <td>-3.305527</td>\n",
       "      <td>1005420</td>\n",
       "      <td>-5.149994</td>\n",
       "      <td>-1.085009</td>\n",
       "    </tr>\n",
       "    <tr>\n",
       "      <th>2016-08-19</th>\n",
       "      <td>1301.750000</td>\n",
       "      <td>1323.224976</td>\n",
       "      <td>1300.000000</td>\n",
       "      <td>74.938529</td>\n",
       "      <td>48.026965</td>\n",
       "      <td>-0.603216</td>\n",
       "      <td>2416244</td>\n",
       "      <td>-17.525024</td>\n",
       "      <td>-1.328383</td>\n",
       "      <td>195.037552</td>\n",
       "      <td>...</td>\n",
       "      <td>-1.533452</td>\n",
       "      <td>473.200012</td>\n",
       "      <td>477.200012</td>\n",
       "      <td>470.000000</td>\n",
       "      <td>46.119388</td>\n",
       "      <td>40.000008</td>\n",
       "      <td>-3.022851</td>\n",
       "      <td>3664586</td>\n",
       "      <td>3.700012</td>\n",
       "      <td>0.788075</td>\n",
       "    </tr>\n",
       "    <tr>\n",
       "      <th>2016-08-22</th>\n",
       "      <td>1274.349976</td>\n",
       "      <td>1297.224976</td>\n",
       "      <td>1268.150024</td>\n",
       "      <td>94.335486</td>\n",
       "      <td>28.218409</td>\n",
       "      <td>-5.891260</td>\n",
       "      <td>2265274</td>\n",
       "      <td>-27.400024</td>\n",
       "      <td>-2.104861</td>\n",
       "      <td>193.312546</td>\n",
       "      <td>...</td>\n",
       "      <td>-1.286486</td>\n",
       "      <td>466.350006</td>\n",
       "      <td>474.299988</td>\n",
       "      <td>465.000000</td>\n",
       "      <td>53.313767</td>\n",
       "      <td>34.821453</td>\n",
       "      <td>-4.855654</td>\n",
       "      <td>1107412</td>\n",
       "      <td>-6.850006</td>\n",
       "      <td>-1.447592</td>\n",
       "    </tr>\n",
       "    <tr>\n",
       "      <th>2016-08-23</th>\n",
       "      <td>1300.525024</td>\n",
       "      <td>1302.474976</td>\n",
       "      <td>1270.099976</td>\n",
       "      <td>95.160224</td>\n",
       "      <td>38.017342</td>\n",
       "      <td>-3.636259</td>\n",
       "      <td>1503374</td>\n",
       "      <td>26.175049</td>\n",
       "      <td>2.053992</td>\n",
       "      <td>194.850052</td>\n",
       "      <td>...</td>\n",
       "      <td>-1.539513</td>\n",
       "      <td>465.799988</td>\n",
       "      <td>474.500000</td>\n",
       "      <td>461.500000</td>\n",
       "      <td>57.696596</td>\n",
       "      <td>26.108738</td>\n",
       "      <td>-6.690710</td>\n",
       "      <td>1617568</td>\n",
       "      <td>-0.550018</td>\n",
       "      <td>-0.117941</td>\n",
       "    </tr>\n",
       "    <tr>\n",
       "      <th>2016-08-24</th>\n",
       "      <td>1286.025024</td>\n",
       "      <td>1301.000000</td>\n",
       "      <td>1284.525024</td>\n",
       "      <td>103.516887</td>\n",
       "      <td>39.352961</td>\n",
       "      <td>-3.171705</td>\n",
       "      <td>1116878</td>\n",
       "      <td>-14.500000</td>\n",
       "      <td>-1.114934</td>\n",
       "      <td>194.868805</td>\n",
       "      <td>...</td>\n",
       "      <td>-0.944351</td>\n",
       "      <td>467.049988</td>\n",
       "      <td>471.700012</td>\n",
       "      <td>463.500000</td>\n",
       "      <td>60.301909</td>\n",
       "      <td>28.322457</td>\n",
       "      <td>-6.007246</td>\n",
       "      <td>894108</td>\n",
       "      <td>1.250000</td>\n",
       "      <td>0.268356</td>\n",
       "    </tr>\n",
       "    <tr>\n",
       "      <th>2016-08-25</th>\n",
       "      <td>1275.525024</td>\n",
       "      <td>1294.849976</td>\n",
       "      <td>1263.000000</td>\n",
       "      <td>114.368180</td>\n",
       "      <td>37.759187</td>\n",
       "      <td>-3.806559</td>\n",
       "      <td>1939690</td>\n",
       "      <td>-10.500000</td>\n",
       "      <td>-0.816469</td>\n",
       "      <td>189.000046</td>\n",
       "      <td>...</td>\n",
       "      <td>2.195835</td>\n",
       "      <td>458.100006</td>\n",
       "      <td>470.950012</td>\n",
       "      <td>455.899994</td>\n",
       "      <td>64.089242</td>\n",
       "      <td>22.006696</td>\n",
       "      <td>-8.370838</td>\n",
       "      <td>1769817</td>\n",
       "      <td>-8.949982</td>\n",
       "      <td>-1.916279</td>\n",
       "    </tr>\n",
       "  </tbody>\n",
       "</table>\n",
       "<p>10 rows × 54 columns</p>\n",
       "</div>"
      ],
      "text/plain": [
       "            TCS.NS_close  TCS.NS_high   TCS.NS_low  TCS.NS_width  TCS.NS_rsi  \\\n",
       "Date                                                                           \n",
       "2016-08-11   1354.949951  1357.500000  1332.775024    102.181835   79.895674   \n",
       "2016-08-12   1369.224976  1372.400024  1351.025024    102.742022   78.905037   \n",
       "2016-08-16   1345.849976  1370.000000  1336.925049     86.012825   69.820460   \n",
       "2016-08-17   1312.275024  1349.500000  1309.000000     74.355524   55.978129   \n",
       "2016-08-18   1319.275024  1328.775024  1315.050049     71.159815   52.640951   \n",
       "2016-08-19   1301.750000  1323.224976  1300.000000     74.938529   48.026965   \n",
       "2016-08-22   1274.349976  1297.224976  1268.150024     94.335486   28.218409   \n",
       "2016-08-23   1300.525024  1302.474976  1270.099976     95.160224   38.017342   \n",
       "2016-08-24   1286.025024  1301.000000  1284.525024    103.516887   39.352961   \n",
       "2016-08-25   1275.525024  1294.849976  1263.000000    114.368180   37.759187   \n",
       "\n",
       "            TCS.NS_roc  TCS.NS_volume  TCS.NS_diff  \\\n",
       "Date                                                 \n",
       "2016-08-11    7.745211        2233138    17.250000   \n",
       "2016-08-12    7.014596        2327358    14.275024   \n",
       "2016-08-16    5.449340        3183754   -23.375000   \n",
       "2016-08-17    1.823437        1848566   -33.574951   \n",
       "2016-08-18    0.736854        1292064     7.000000   \n",
       "2016-08-19   -0.603216        2416244   -17.525024   \n",
       "2016-08-22   -5.891260        2265274   -27.400024   \n",
       "2016-08-23   -3.636259        1503374    26.175049   \n",
       "2016-08-24   -3.171705        1116878   -14.500000   \n",
       "2016-08-25   -3.806559        1939690   -10.500000   \n",
       "\n",
       "            TCS.NS_percent_change_close  WIPRO.NS_close  ...  \\\n",
       "Date                                                     ...   \n",
       "2016-08-11                     1.289527      203.625046  ...   \n",
       "2016-08-12                     1.053546      203.906296  ...   \n",
       "2016-08-16                    -1.707170      201.187546  ...   \n",
       "2016-08-17                    -2.494702      197.925049  ...   \n",
       "2016-08-18                     0.533425      196.912552  ...   \n",
       "2016-08-19                    -1.328383      195.037552  ...   \n",
       "2016-08-22                    -2.104861      193.312546  ...   \n",
       "2016-08-23                     2.053992      194.850052  ...   \n",
       "2016-08-24                    -1.114934      194.868805  ...   \n",
       "2016-08-25                    -0.816469      189.000046  ...   \n",
       "\n",
       "            LTIM.NS_percent_change_close  TECHM.NS_close  TECHM.NS_high  \\\n",
       "Date                                                                      \n",
       "2016-08-11                     -0.898227      500.100006     501.899994   \n",
       "2016-08-12                      0.168120      493.350006     504.000000   \n",
       "2016-08-16                     -0.474314      482.950012     491.750000   \n",
       "2016-08-17                     -0.439915      474.649994     487.000000   \n",
       "2016-08-18                     -0.589145      469.500000     478.700012   \n",
       "2016-08-19                     -1.533452      473.200012     477.200012   \n",
       "2016-08-22                     -1.286486      466.350006     474.299988   \n",
       "2016-08-23                     -1.539513      465.799988     474.500000   \n",
       "2016-08-24                     -0.944351      467.049988     471.700012   \n",
       "2016-08-25                      2.195835      458.100006     470.950012   \n",
       "\n",
       "            TECHM.NS_low  TECHM.NS_width  TECHM.NS_rsi  TECHM.NS_roc  \\\n",
       "Date                                                                   \n",
       "2016-08-11    495.299988       26.190954     46.652732     -0.950681   \n",
       "2016-08-12    488.399994       23.730119     39.959991     -2.960265   \n",
       "2016-08-16    478.250000       27.134394     37.696684     -3.890545   \n",
       "2016-08-17    472.200012       33.304215     32.790712     -5.870105   \n",
       "2016-08-18    468.250000       41.449764     38.923415     -3.305527   \n",
       "2016-08-19    470.000000       46.119388     40.000008     -3.022851   \n",
       "2016-08-22    465.000000       53.313767     34.821453     -4.855654   \n",
       "2016-08-23    461.500000       57.696596     26.108738     -6.690710   \n",
       "2016-08-24    463.500000       60.301909     28.322457     -6.007246   \n",
       "2016-08-25    455.899994       64.089242     22.006696     -8.370838   \n",
       "\n",
       "            TECHM.NS_volume  TECHM.NS_diff  TECHM.NS_percent_change_close  \n",
       "Date                                                                       \n",
       "2016-08-11          1681953       2.899994                       0.583265  \n",
       "2016-08-12          3618973      -6.750000                      -1.349730  \n",
       "2016-08-16          2087382     -10.399994                      -2.108036  \n",
       "2016-08-17           913427      -8.300018                      -1.718608  \n",
       "2016-08-18          1005420      -5.149994                      -1.085009  \n",
       "2016-08-19          3664586       3.700012                       0.788075  \n",
       "2016-08-22          1107412      -6.850006                      -1.447592  \n",
       "2016-08-23          1617568      -0.550018                      -0.117941  \n",
       "2016-08-24           894108       1.250000                       0.268356  \n",
       "2016-08-25          1769817      -8.949982                      -1.916279  \n",
       "\n",
       "[10 rows x 54 columns]"
      ]
     },
     "execution_count": 12,
     "metadata": {},
     "output_type": "execute_result"
    }
   ],
   "source": [
    "df[1:11]"
   ]
  },
  {
   "cell_type": "code",
   "execution_count": 13,
   "metadata": {},
   "outputs": [
    {
     "data": {
      "text/html": [
       "<div>\n",
       "<style scoped>\n",
       "    .dataframe tbody tr th:only-of-type {\n",
       "        vertical-align: middle;\n",
       "    }\n",
       "\n",
       "    .dataframe tbody tr th {\n",
       "        vertical-align: top;\n",
       "    }\n",
       "\n",
       "    .dataframe thead th {\n",
       "        text-align: right;\n",
       "    }\n",
       "</style>\n",
       "<table border=\"1\" class=\"dataframe\">\n",
       "  <thead>\n",
       "    <tr style=\"text-align: right;\">\n",
       "      <th></th>\n",
       "      <th>TCS.NS_close</th>\n",
       "      <th>TCS.NS_high</th>\n",
       "      <th>TCS.NS_low</th>\n",
       "      <th>TCS.NS_width</th>\n",
       "      <th>TCS.NS_rsi</th>\n",
       "      <th>TCS.NS_roc</th>\n",
       "      <th>TCS.NS_volume</th>\n",
       "      <th>TCS.NS_diff</th>\n",
       "      <th>TCS.NS_percent_change_close</th>\n",
       "      <th>WIPRO.NS_close</th>\n",
       "      <th>...</th>\n",
       "      <th>LTIM.NS_percent_change_close</th>\n",
       "      <th>TECHM.NS_close</th>\n",
       "      <th>TECHM.NS_high</th>\n",
       "      <th>TECHM.NS_low</th>\n",
       "      <th>TECHM.NS_width</th>\n",
       "      <th>TECHM.NS_rsi</th>\n",
       "      <th>TECHM.NS_roc</th>\n",
       "      <th>TECHM.NS_volume</th>\n",
       "      <th>TECHM.NS_diff</th>\n",
       "      <th>TECHM.NS_percent_change_close</th>\n",
       "    </tr>\n",
       "    <tr>\n",
       "      <th>Date</th>\n",
       "      <th></th>\n",
       "      <th></th>\n",
       "      <th></th>\n",
       "      <th></th>\n",
       "      <th></th>\n",
       "      <th></th>\n",
       "      <th></th>\n",
       "      <th></th>\n",
       "      <th></th>\n",
       "      <th></th>\n",
       "      <th></th>\n",
       "      <th></th>\n",
       "      <th></th>\n",
       "      <th></th>\n",
       "      <th></th>\n",
       "      <th></th>\n",
       "      <th></th>\n",
       "      <th></th>\n",
       "      <th></th>\n",
       "      <th></th>\n",
       "      <th></th>\n",
       "    </tr>\n",
       "  </thead>\n",
       "  <tbody>\n",
       "    <tr>\n",
       "      <th>2016-08-26</th>\n",
       "      <td>1262.474976</td>\n",
       "      <td>1286.275024</td>\n",
       "      <td>1258.599976</td>\n",
       "      <td>128.379838</td>\n",
       "      <td>35.74789</td>\n",
       "      <td>-4.686503</td>\n",
       "      <td>1250314</td>\n",
       "      <td>-13.050049</td>\n",
       "      <td>-1.023112</td>\n",
       "      <td>183.750046</td>\n",
       "      <td>...</td>\n",
       "      <td>-0.93287</td>\n",
       "      <td>459.950012</td>\n",
       "      <td>463.700012</td>\n",
       "      <td>457.0</td>\n",
       "      <td>66.308905</td>\n",
       "      <td>25.523034</td>\n",
       "      <td>-7.090188</td>\n",
       "      <td>857182</td>\n",
       "      <td>1.850006</td>\n",
       "      <td>0.403843</td>\n",
       "    </tr>\n",
       "  </tbody>\n",
       "</table>\n",
       "<p>1 rows × 54 columns</p>\n",
       "</div>"
      ],
      "text/plain": [
       "            TCS.NS_close  TCS.NS_high   TCS.NS_low  TCS.NS_width  TCS.NS_rsi  \\\n",
       "Date                                                                           \n",
       "2016-08-26   1262.474976  1286.275024  1258.599976    128.379838    35.74789   \n",
       "\n",
       "            TCS.NS_roc  TCS.NS_volume  TCS.NS_diff  \\\n",
       "Date                                                 \n",
       "2016-08-26   -4.686503        1250314   -13.050049   \n",
       "\n",
       "            TCS.NS_percent_change_close  WIPRO.NS_close  ...  \\\n",
       "Date                                                     ...   \n",
       "2016-08-26                    -1.023112      183.750046  ...   \n",
       "\n",
       "            LTIM.NS_percent_change_close  TECHM.NS_close  TECHM.NS_high  \\\n",
       "Date                                                                      \n",
       "2016-08-26                      -0.93287      459.950012     463.700012   \n",
       "\n",
       "            TECHM.NS_low  TECHM.NS_width  TECHM.NS_rsi  TECHM.NS_roc  \\\n",
       "Date                                                                   \n",
       "2016-08-26         457.0       66.308905     25.523034     -7.090188   \n",
       "\n",
       "            TECHM.NS_volume  TECHM.NS_diff  TECHM.NS_percent_change_close  \n",
       "Date                                                                       \n",
       "2016-08-26           857182       1.850006                       0.403843  \n",
       "\n",
       "[1 rows x 54 columns]"
      ]
     },
     "execution_count": 13,
     "metadata": {},
     "output_type": "execute_result"
    }
   ],
   "source": [
    "df.iloc[11:12]"
   ]
  },
  {
   "cell_type": "code",
   "execution_count": 14,
   "metadata": {},
   "outputs": [
    {
     "data": {
      "text/plain": [
       "TCS.NS_close                       1.250275e+03\n",
       "TCS.NS_high                        1.267475e+03\n",
       "TCS.NS_low                         1.233375e+03\n",
       "TCS.NS_width                       1.441112e+02\n",
       "TCS.NS_rsi                         3.379394e+01\n",
       "TCS.NS_roc                        -5.621814e+00\n",
       "TCS.NS_volume                      1.488728e+06\n",
       "TCS.NS_diff                       -1.219995e+01\n",
       "TCS.NS_percent_change_close       -9.663519e-01\n",
       "WIPRO.NS_close                     1.795500e+02\n",
       "WIPRO.NS_high                      1.843313e+02\n",
       "WIPRO.NS_low                       1.789125e+02\n",
       "WIPRO.NS_width                     3.146408e+01\n",
       "WIPRO.NS_rsi                       8.899314e+00\n",
       "WIPRO.NS_roc                      -1.278688e+01\n",
       "WIPRO.NS_volume                    1.358833e+07\n",
       "WIPRO.NS_diff                     -4.199997e+00\n",
       "WIPRO.NS_percent_change_close     -2.285712e+00\n",
       "HCLTECH.NS_close                   3.775500e+02\n",
       "HCLTECH.NS_high                    3.914750e+02\n",
       "HCLTECH.NS_low                     3.755500e+02\n",
       "HCLTECH.NS_width                   3.922521e+01\n",
       "HCLTECH.NS_rsi                     2.626114e+01\n",
       "HCLTECH.NS_roc                    -7.813454e+00\n",
       "HCLTECH.NS_volume                  3.060904e+06\n",
       "HCLTECH.NS_diff                   -1.182501e+01\n",
       "HCLTECH.NS_percent_change_close   -3.036921e+00\n",
       "INFY.NS_close                      5.114000e+02\n",
       "INFY.NS_high                       5.150000e+02\n",
       "INFY.NS_low                        5.055000e+02\n",
       "INFY.NS_width                      4.859318e+01\n",
       "INFY.NS_rsi                        3.188596e+01\n",
       "INFY.NS_roc                       -5.182161e+00\n",
       "INFY.NS_volume                     5.220282e+06\n",
       "INFY.NS_diff                       1.274994e+00\n",
       "INFY.NS_percent_change_close       2.499375e-01\n",
       "LTIM.NS_close                      6.409000e+02\n",
       "LTIM.NS_high                       6.474500e+02\n",
       "LTIM.NS_low                        6.398000e+02\n",
       "LTIM.NS_width                      7.920740e+01\n",
       "LTIM.NS_rsi                        1.681421e+01\n",
       "LTIM.NS_roc                       -8.560422e+00\n",
       "LTIM.NS_volume                     6.673900e+04\n",
       "LTIM.NS_diff                      -6.899963e+00\n",
       "LTIM.NS_percent_change_close      -1.065138e+00\n",
       "TECHM.NS_close                     4.495500e+02\n",
       "TECHM.NS_high                      4.627000e+02\n",
       "TECHM.NS_low                       4.485500e+02\n",
       "TECHM.NS_width                     6.736915e+01\n",
       "TECHM.NS_rsi                       1.319729e+01\n",
       "TECHM.NS_roc                      -1.074159e+01\n",
       "TECHM.NS_volume                    7.979040e+05\n",
       "TECHM.NS_diff                     -1.040002e+01\n",
       "TECHM.NS_percent_change_close     -2.261121e+00\n",
       "Name: 2016-08-29 00:00:00, dtype: float64"
      ]
     },
     "execution_count": 14,
     "metadata": {},
     "output_type": "execute_result"
    }
   ],
   "source": [
    "df.iloc[12]"
   ]
  },
  {
   "cell_type": "code",
   "execution_count": 15,
   "metadata": {},
   "outputs": [],
   "source": [
    "SEQUENCE_LEN = 15  # 15 days of data\n",
    "BATCH_SIZE = 32\n",
    "dataset = Dataset(df,SEQUENCE_LEN)\n",
    "train_size = int(0.8 * len(dataset))\n",
    "test_size = len(dataset) - train_size\n",
    "train_set, val_set = torch.utils.data.random_split(dataset, [train_size, test_size])\n",
    "\n",
    "train_dataloader = torch.utils.data.DataLoader(\n",
    "            train_set,\n",
    "            batch_size=BATCH_SIZE,\n",
    "            shuffle=True,num_workers=4,drop_last=True\n",
    ")\n",
    "val_dataloader = torch.utils.data.DataLoader(\n",
    "            val_set,\n",
    "            batch_size=BATCH_SIZE,\n",
    "            shuffle=True,num_workers=4,drop_last=True\n",
    ")"
   ]
  },
  {
   "cell_type": "code",
   "execution_count": 16,
   "metadata": {},
   "outputs": [
    {
     "data": {
      "text/plain": [
       "(tensor([[ 9.6779e-01,  7.0213e-01,  9.2875e-01,  2.7840e-01,  1.5429e+00,\n",
       "           1.4299e+00,  1.3520e-01,  8.9498e-01,  8.8310e-01,  1.2236e+00,\n",
       "           1.3033e+00,  1.1877e+00, -1.1348e+00,  1.4829e+00,  1.3325e+00,\n",
       "          -8.0408e-01, -6.5730e-01, -5.8231e-01,  1.5585e+00,  1.0352e+00,\n",
       "           1.3423e+00,  2.0333e+00,  1.6776e+00,  1.6730e+00, -1.3014e+00,\n",
       "           2.9323e-01,  2.7814e-01,  1.9644e+00,  1.7145e+00,  1.9591e+00,\n",
       "          -1.6182e+00,  1.7347e+00,  1.9421e+00, -5.8594e-01,  1.5465e-01,\n",
       "           1.4659e-01,  1.5320e+00,  1.5691e+00,  1.5568e+00, -1.0169e+00,\n",
       "           1.1935e+00,  1.1668e+00, -8.0716e-01, -6.9881e-01, -6.4552e-01,\n",
       "           1.6676e+00,  1.6694e+00,  1.6016e+00, -1.2503e+00,  1.2661e+00,\n",
       "           1.3614e+00, -3.0458e-01, -4.3880e-01, -4.0528e-01],\n",
       "         [ 1.4251e+00,  1.1675e+00,  1.1673e+00, -1.8054e-01,  1.6361e+00,\n",
       "           1.6235e+00,  3.9642e-01,  1.1365e+00,  1.1133e+00,  1.2400e+00,\n",
       "           1.1368e+00,  1.1854e+00, -1.2423e+00,  1.7261e+00,  1.5314e+00,\n",
       "          -8.8328e-01,  6.0299e-01,  5.7517e-01,  1.9042e+00,  1.4694e+00,\n",
       "           1.7949e+00,  1.7171e+00,  1.6805e+00,  1.6732e+00, -7.4433e-02,\n",
       "           6.8131e-01,  6.5031e-01,  1.7250e+00,  2.0728e+00,  1.9614e+00,\n",
       "          -1.6601e+00,  1.8904e+00,  2.0601e+00, -7.5619e-01, -1.3349e-01,\n",
       "          -1.2963e-01,  1.1799e+00,  1.3443e+00,  1.1637e+00, -1.0848e+00,\n",
       "           6.6765e-01,  6.8021e-01, -6.3022e-01, -4.4145e-01, -4.1448e-01,\n",
       "           1.8644e+00,  1.5229e+00,  1.8667e+00, -1.3084e+00,  1.5434e+00,\n",
       "           1.6041e+00,  8.1570e-02,  7.3963e-01,  6.9505e-01],\n",
       "         [ 1.8036e+00,  1.5878e+00,  1.6635e+00, -1.5925e-01,  1.5819e+00,\n",
       "           1.4803e+00,  5.4030e-01,  9.8198e-01,  9.5290e-01,  1.2751e+00,\n",
       "           1.2309e+00,  1.2078e+00, -1.2551e+00,  1.5016e+00,  1.3431e+00,\n",
       "          -7.1482e-01,  6.5869e-01,  6.2705e-01,  1.3452e+00,  1.9386e+00,\n",
       "           1.4219e+00,  1.3172e+00,  1.2738e+00,  1.2248e+00, -2.5851e-01,\n",
       "          -5.9329e-01, -5.6666e-01,  1.0161e+00,  1.2552e+00,  1.2500e+00,\n",
       "          -1.4432e+00,  5.3751e-01,  9.5733e-01,  7.0152e-03, -8.4838e-01,\n",
       "          -8.1956e-01,  1.2452e+00,  1.0086e+00,  1.1899e+00, -1.0871e+00,\n",
       "           1.1462e+00,  1.1354e+00, -9.5966e-01,  5.8103e-01,  5.5329e-01,\n",
       "           1.4062e+00,  1.6694e+00,  1.3854e+00, -1.4610e+00,  8.0261e-01,\n",
       "           8.5654e-01,  2.1860e+00, -6.4718e-01, -6.0345e-01],\n",
       "         [ 1.1839e+00,  1.5201e+00,  1.2801e+00, -7.9532e-01,  1.0851e+00,\n",
       "           1.1734e+00,  1.8481e+00, -9.7367e-01, -9.2389e-01,  9.3579e-01,\n",
       "           1.0620e+00,  9.5283e-01, -1.0888e+00,  9.4464e-01,  8.9636e-01,\n",
       "          -6.2759e-01, -4.5538e-01, -4.0992e-01,  1.6509e-01,  1.2567e+00,\n",
       "           2.4521e-01,  8.1557e-01,  6.3845e-01,  6.9850e-01,  9.8162e-01,\n",
       "          -1.4684e+00, -1.4198e+00,  5.0129e-01,  2.0809e-01, -2.4273e-01,\n",
       "          -1.1287e+00, -4.6361e-01,  8.7303e-02,  2.8490e+00, -5.5294e-01,\n",
       "          -5.4563e-01,  1.0607e+00,  8.3216e-01,  1.1008e+00, -1.0615e+00,\n",
       "           1.0058e+00,  9.9992e-01, -1.1045e+00, -3.1069e-02, -2.9758e-02,\n",
       "           7.0028e-01,  8.1516e-01,  6.7733e-01, -1.2499e+00,  5.5208e-01,\n",
       "           5.1047e-01,  5.2203e-01, -1.1717e+00, -1.1128e+00],\n",
       "         [ 2.9375e-01,  9.4188e-01,  5.2095e-01, -1.2386e+00,  3.2800e-01,\n",
       "           4.6242e-01, -1.9085e-01, -1.5035e+00, -1.4593e+00,  5.2865e-01,\n",
       "           6.8326e-01,  5.8601e-01, -7.3951e-01,  4.2008e-01,  4.0170e-01,\n",
       "          -5.8695e-01, -6.5730e-01, -6.1309e-01, -2.5618e-01, -8.0816e-02,\n",
       "           5.0468e-02,  4.1478e-01,  3.6671e-01,  3.8119e-01,  1.2389e+00,\n",
       "          -3.9925e-01, -4.0490e-01, -3.8474e-01, -6.4426e-02, -1.2611e-01,\n",
       "          -4.8046e-01, -8.9934e-01, -6.3401e-01, -2.6220e-01, -1.1183e+00,\n",
       "          -1.1110e+00,  8.9036e-01,  1.0313e+00,  8.8588e-01, -9.9601e-01,\n",
       "           9.6280e-01,  9.5483e-01, -7.2023e-01,  3.7093e-03,  1.4612e-03,\n",
       "           1.3689e-01,  4.8394e-01,  2.5531e-01, -8.6736e-01,  9.0433e-03,\n",
       "          -2.2592e-01, -7.5336e-01, -8.6994e-01, -8.5125e-01],\n",
       "         [ 4.7933e-01,  3.5732e-01,  6.8543e-01, -1.3601e+00,  1.4549e-01,\n",
       "           2.4938e-01, -1.0407e+00,  6.0410e-01,  5.9931e-01,  4.0230e-01,\n",
       "           2.9241e-01,  4.3392e-01, -4.9734e-01,  2.3655e-02,  1.0105e-01,\n",
       "          -6.3741e-01,  1.7825e-01,  1.6921e-01, -1.8867e-01, -5.7328e-01,\n",
       "          -5.3759e-02, -1.4974e-01,  4.4074e-01,  4.5924e-01, -4.8816e-01,\n",
       "           2.8942e-01,  2.7824e-01, -8.5889e-01, -7.4823e-01, -5.4595e-01,\n",
       "           1.6625e-01, -9.4908e-01, -7.4952e-01,  3.1847e-01, -4.9094e-01,\n",
       "          -5.0505e-01,  6.6322e-01,  4.8218e-01,  7.1814e-01, -9.1093e-01,\n",
       "           1.3319e+00,  1.2961e+00,  2.0061e-01, -1.3540e-01, -1.3397e-01,\n",
       "          -2.1269e-01, -9.4834e-02, -2.0229e-02, -3.6229e-01,  6.8787e-01,\n",
       "           7.2810e-01, -6.5342e-01, -4.1724e-01, -4.2562e-01],\n",
       "         [ 1.4714e-02,  2.0078e-01,  2.7626e-01, -1.2164e+00, -1.0685e-01,\n",
       "          -1.3369e-02,  6.7603e-01, -6.6981e-01, -6.6638e-01,  1.6831e-01,\n",
       "           2.8035e-01,  2.4827e-01, -1.6822e-01,  1.3417e-01,  2.4151e-01,\n",
       "          -5.6408e-01, -1.4204e-01, -1.4133e-01, -4.0201e-01, -4.5672e-01,\n",
       "          -8.1187e-02, -7.6220e-01,  3.2868e-01,  3.4043e-01, -9.7432e-01,\n",
       "          -1.0628e-01, -1.1716e-01, -9.5947e-01, -7.5328e-01, -6.8823e-01,\n",
       "           6.4681e-01, -9.1165e-01, -6.8424e-01, -5.5126e-01,  7.8052e-02,\n",
       "           6.4652e-02,  7.5520e-02,  3.7122e-01,  1.2319e-01, -5.8597e-01,\n",
       "          -2.9979e-01,  2.3532e-02,  1.2321e+00, -1.0188e+00, -9.9098e-01,\n",
       "           3.8465e-02, -1.9943e-01,  1.0184e-01, -7.2744e-02,  8.0704e-01,\n",
       "           8.3326e-01,  2.2355e+00,  8.5461e-01,  8.3263e-01],\n",
       "         [-7.1170e-01, -5.3257e-01, -5.8964e-01, -4.7888e-01, -1.1902e+00,\n",
       "          -1.0502e+00,  4.4549e-01, -1.1827e+00, -1.1942e+00, -4.6953e-02,\n",
       "          -1.9253e-01,  4.4734e-02,  1.6677e-02, -1.1131e+00, -4.5273e-01,\n",
       "          -5.7318e-01, -8.6342e-02, -9.3582e-02, -9.2050e-01, -8.6759e-01,\n",
       "          -8.8208e-01, -6.1403e-01, -3.2528e-01, -3.6494e-01, -8.9573e-01,\n",
       "          -5.3622e-01, -5.5031e-01, -1.2396e+00, -1.2075e+00, -1.1244e+00,\n",
       "           9.9615e-01, -1.9113e+00, -1.4731e+00,  8.9435e-01, -1.9550e-01,\n",
       "          -2.1350e-01, -4.0997e-01, -3.6287e-01, -2.7782e-01, -1.1334e-01,\n",
       "          -4.5655e-01, -1.9868e-01, -1.0288e-01, -7.6836e-01, -7.6685e-01,\n",
       "          -4.2651e-01, -4.0165e-01, -2.4694e-01,  3.7335e-01,  2.3383e-01,\n",
       "           1.5145e-01, -5.4262e-01, -6.6155e-01, -6.6919e-01],\n",
       "         [-1.7762e-02, -3.8449e-01, -5.3663e-01, -4.4752e-01, -6.5429e-01,\n",
       "          -6.0806e-01, -7.1798e-01,  1.6001e+00,  1.6330e+00,  1.4492e-01,\n",
       "          -1.6840e-01,  6.7100e-02,  1.2111e-01, -5.2008e-01,  3.6914e-02,\n",
       "          -4.9073e-01,  1.1252e+00,  1.0902e+00,  9.2176e-02, -3.7222e-01,\n",
       "          -5.2003e-01, -5.5913e-01, -3.5830e-01, -3.8903e-01, -1.4119e-01,\n",
       "           1.6211e+00,  1.6333e+00, -8.0620e-02, -6.0188e-01, -6.1126e-01,\n",
       "           9.3557e-01, -2.2448e-01, -2.6367e-01, -6.8443e-03,  1.9966e+00,\n",
       "           2.0232e+00, -9.8348e-01, -6.5309e-01, -8.5442e-01,  4.9556e-01,\n",
       "          -7.1296e-01, -6.0516e-01,  1.2113e+00, -9.8398e-01, -9.9648e-01,\n",
       "          -4.6384e-01, -3.8771e-01, -4.9108e-01,  6.4511e-01, -7.3058e-01,\n",
       "          -5.3119e-01,  1.1621e-02,  2.4383e-01,  2.2401e-01],\n",
       "         [-4.0218e-01, -4.2609e-01, -1.4445e-01, -1.2978e-01, -5.8124e-01,\n",
       "          -5.1697e-01, -1.3082e+00, -5.1268e-01, -5.2128e-01,  1.4726e-01,\n",
       "          -9.6023e-02,  1.5880e-01,  1.8058e-01, -4.7089e-01,  1.0515e-01,\n",
       "          -5.5471e-01,  5.6121e-01,  5.3650e-01,  5.7069e-02, -2.2652e-01,\n",
       "           1.0964e-03, -6.5081e-01, -1.0705e+00, -8.3857e-01, -1.1843e+00,\n",
       "           1.4483e-01,  1.3400e-01,  7.6949e-01,  4.0995e-01,  6.4361e-01,\n",
       "           7.6022e-01,  5.9108e-01,  5.2561e-01, -4.1075e-01,  1.5261e+00,\n",
       "           1.5118e+00, -1.3299e+00, -1.3616e+00, -1.1506e+00,  1.0855e+00,\n",
       "          -7.9455e-01, -7.6003e-01,  7.3089e-01, -4.2754e-01, -4.5634e-01,\n",
       "          -3.7899e-01, -5.8295e-01, -3.5157e-01,  8.0665e-01, -4.8555e-01,\n",
       "          -2.7694e-01, -7.7435e-01,  5.0251e-01,  4.8350e-01],\n",
       "         [-6.8054e-01, -5.9956e-01, -7.2965e-01,  2.8280e-01, -6.6840e-01,\n",
       "          -6.4145e-01, -5.1697e-02, -3.0491e-01, -3.1837e-01, -5.8512e-01,\n",
       "          -1.3221e-01, -5.0325e-01,  4.6846e-01, -8.1691e-01, -5.6791e-01,\n",
       "           1.7183e+00, -1.6252e+00, -1.5927e+00,  4.7294e-01,  1.6105e-01,\n",
       "           7.1148e-01, -7.9757e-01, -7.8082e-01, -6.6518e-01,  9.1501e-01,\n",
       "           7.8024e-01,  7.6499e-01, -2.4825e-01,  1.8537e-01, -5.1471e-02,\n",
       "           7.5261e-01,  3.6577e-01,  1.1970e-01, -8.3278e-01, -1.3189e+00,\n",
       "          -1.3007e+00, -5.3205e-01, -4.8807e-01, -1.0615e+00,  1.2511e+00,\n",
       "           2.3264e-01,  1.8000e-03,  2.1297e+00,  2.3756e+00,  2.3935e+00,\n",
       "          -9.8651e-01, -6.3525e-01, -8.8172e-01,  1.0415e+00, -1.1846e+00,\n",
       "          -1.1562e+00,  1.7703e-01, -9.6334e-01, -9.8403e-01],\n",
       "         [-1.0265e+00, -8.4142e-01, -8.4928e-01,  8.1555e-01, -7.7840e-01,\n",
       "          -8.1398e-01, -1.1044e+00, -4.3736e-01, -4.5885e-01, -1.2403e+00,\n",
       "          -8.6565e-01, -1.1407e+00,  9.5587e-01, -9.8190e-01, -1.1231e+00,\n",
       "           8.0741e-01, -1.3954e+00, -1.4279e+00, -5.6944e-01, -1.0413e-01,\n",
       "          -4.5421e-01, -8.2530e-01, -1.0366e+00, -9.6833e-01, -2.3664e-01,\n",
       "          -1.2744e+00, -1.2614e+00, -1.0098e+00, -4.0002e-01, -7.5354e-01,\n",
       "           8.7959e-01,  7.2946e-02, -4.6747e-01, -1.7303e-01, -9.2863e-01,\n",
       "          -9.4123e-01, -8.7843e-01, -7.6690e-01, -7.1814e-01,  1.2742e+00,\n",
       "          -1.3050e+00, -1.2530e+00, -7.8255e-01, -4.2754e-01, -4.4592e-01,\n",
       "          -8.6093e-01, -1.1408e+00, -8.0499e-01,  1.1791e+00, -7.9541e-01,\n",
       "          -6.7979e-01, -8.1447e-01,  5.8874e-01,  5.7452e-01],\n",
       "         [-1.3500e+00, -1.3717e+00, -1.5351e+00,  1.4137e+00, -8.8527e-01,\n",
       "          -9.9736e-01, -7.4035e-01, -3.9321e-01, -4.2027e-01, -1.7644e+00,\n",
       "          -1.5653e+00, -1.6283e+00,  1.4660e+00, -1.2062e+00, -1.6651e+00,\n",
       "           1.8734e+00, -1.0054e+00, -1.0811e+00, -1.8468e+00, -1.1240e+00,\n",
       "          -1.6446e+00, -5.0550e-01, -1.2604e+00, -1.3407e+00, -5.1172e-01,\n",
       "          -1.6054e+00, -1.6308e+00, -8.8763e-01, -1.2075e+00, -1.0358e+00,\n",
       "           7.8773e-01, -2.7924e-01, -8.3224e-01, -6.9867e-01,  4.1726e-01,\n",
       "           4.0905e-01, -1.2702e+00, -1.4754e+00, -1.0746e+00,  1.2155e+00,\n",
       "          -1.7685e+00, -1.8150e+00, -1.0764e+00, -5.3882e-01, -5.6596e-01,\n",
       "          -1.5669e+00, -1.2105e+00, -1.3944e+00,  1.2449e+00, -2.1597e+00,\n",
       "          -2.0381e+00, -8.7887e-01, -1.1717e+00, -1.2157e+00],\n",
       "         [-7.7201e-01, -1.1623e+00, -1.0661e+00,  1.5456e+00, -5.7611e-01,\n",
       "          -6.7969e-01, -8.0861e-01,  1.3728e+00,  1.4220e+00, -1.2660e+00,\n",
       "          -1.6184e+00, -1.5813e+00,  1.4692e+00, -6.8448e-01, -1.3028e+00,\n",
       "           1.5347e+00,  2.0374e+00,  2.0973e+00, -8.3138e-01, -1.5436e+00,\n",
       "          -1.4910e+00, -5.9912e-01, -8.1938e-01, -9.7197e-01,  8.0496e-01,\n",
       "           1.6249e+00,  1.6702e+00, -4.4700e-02, -4.5049e-01, -3.8268e-01,\n",
       "           4.3042e-01,  2.6237e-01, -2.1000e-01, -9.6606e-01,  1.5151e+00,\n",
       "           1.5220e+00, -6.5414e-01, -7.6975e-01, -9.8547e-01,  8.9935e-01,\n",
       "          -7.7016e-01, -1.0626e+00,  3.5794e-02,  1.9304e+00,  1.9371e+00,\n",
       "          -6.5729e-01, -1.0711e+00, -1.2096e+00,  8.4958e-01, -6.3870e-01,\n",
       "          -9.7012e-01, -6.7914e-01,  2.2486e+00,  2.3056e+00],\n",
       "         [-1.2075e+00, -1.1594e+00, -1.0715e+00,  1.6702e+00, -8.7865e-01,\n",
       "          -1.0977e+00,  1.9212e+00, -6.1266e-01, -6.4110e-01, -1.1631e+00,\n",
       "          -1.3506e+00, -1.2190e+00,  1.4482e+00, -4.3961e-01, -8.7809e-01,\n",
       "           5.0303e-01,  8.6062e-01,  8.4648e-01, -5.8024e-01, -5.1209e-01,\n",
       "          -4.4049e-01, -8.3459e-01, -7.5519e-01, -9.1169e-01,  2.1260e+00,\n",
       "           5.4814e-01,  5.4196e-01, -2.6262e-01, -4.1264e-01, -2.5206e-01,\n",
       "          -2.4759e-02,  1.8389e-01, -3.7783e-01,  1.1749e+00, -1.0067e-01,\n",
       "          -1.1100e-01, -5.8884e-01, -7.6121e-01, -6.1592e-01,  6.3528e-01,\n",
       "          -4.3300e-01, -5.6407e-01,  6.4320e-01,  5.8103e-01,  5.6085e-01,\n",
       "          -2.6020e-01, -4.3652e-01, -4.8760e-01,  4.3184e-01,  9.2620e-02,\n",
       "          -1.6710e-01,  1.8708e-01,  1.1636e+00,  1.1521e+00]]),\n",
       " tensor(-1.2578),\n",
       " 1301.1949951171875,\n",
       " 37.71973636979581)"
      ]
     },
     "execution_count": 16,
     "metadata": {},
     "output_type": "execute_result"
    }
   ],
   "source": [
    "dataset[0]"
   ]
  },
  {
   "cell_type": "code",
   "execution_count": 17,
   "metadata": {},
   "outputs": [],
   "source": [
    "def dir_acc(seq,y_true, y_pred):\n",
    "    y_true_prev = seq[:,-1,0]\n",
    "    # print(y_true.shape,y_true_prev.shape,y_pred.shape)\n",
    "    true_change = y_true - y_true_prev  # Calculate true change\n",
    "    pred_change = y_pred.squeeze(1) - y_true_prev  # Calculate predicted change\n",
    "    # print(torch.sign(true_change), torch.sign(pred_change))\n",
    "    correct_direction = torch.eq(torch.sign(true_change), torch.sign(pred_change))  # Check if the signs match\n",
    "    # print(correct_direction)\n",
    "    return torch.mean(torch.tensor(correct_direction).float())  # Return the mean of correct directions"
   ]
  },
  {
   "cell_type": "code",
   "execution_count": 21,
   "metadata": {},
   "outputs": [],
   "source": [
    "# Hyperparameters\n",
    "input_size = df.shape[1]\n",
    "output_size = 1\n",
    "num_layers = 4\n",
    "d_model = 16\n",
    "nhead = 4\n",
    "num_epochs = 100\n",
    "learning_rate = 0.001\n",
    "device = torch.device(\"cuda\" if torch.cuda.is_available() else \"cpu\")\n",
    "\n",
    "# Instantiate the model, loss function and optimizer\n",
    "model = TransformerModel(input_size, output_size, d_model, nhead, num_layers)\n",
    "model.to(device)\n",
    "criterion = nn.L1Loss()\n",
    "optimizer = optim.Adam(model.parameters(), lr=learning_rate)\n",
    "\n",
    "# print(summary(model, (torch.zeros((input_size,15)))))"
   ]
  },
  {
   "cell_type": "code",
   "execution_count": 22,
   "metadata": {},
   "outputs": [
    {
     "name": "stderr",
     "output_type": "stream",
     "text": [
      "  0%|          | 0/48 [00:00<?, ?it/s]"
     ]
    },
    {
     "name": "stderr",
     "output_type": "stream",
     "text": [
      "100%|██████████| 48/48 [00:12<00:00,  3.89it/s]\n",
      "/tmp/ipykernel_1926959/3337551381.py:9: UserWarning: To copy construct from a tensor, it is recommended to use sourceTensor.clone().detach() or sourceTensor.clone().detach().requires_grad_(True), rather than torch.tensor(sourceTensor).\n",
      "  return torch.mean(torch.tensor(correct_direction).float())  # Return the mean of correct directions\n"
     ]
    },
    {
     "name": "stdout",
     "output_type": "stream",
     "text": [
      "---------------Epoch:0 Train_loss:1.2011609077453613 Val_loss:1.0862655639648438 Dir Accuracy:f0.515625\n"
     ]
    },
    {
     "name": "stderr",
     "output_type": "stream",
     "text": [
      "100%|██████████| 48/48 [00:10<00:00,  4.66it/s]\n"
     ]
    },
    {
     "name": "stdout",
     "output_type": "stream",
     "text": [
      "---------------Epoch:1 Train_loss:1.1395974159240723 Val_loss:1.0818545818328857 Dir Accuracy:f0.5260416865348816\n"
     ]
    },
    {
     "name": "stderr",
     "output_type": "stream",
     "text": [
      "100%|██████████| 48/48 [00:10<00:00,  4.73it/s]\n"
     ]
    },
    {
     "name": "stdout",
     "output_type": "stream",
     "text": [
      "---------------Epoch:2 Train_loss:1.1033037900924683 Val_loss:1.089731216430664 Dir Accuracy:f0.5286458730697632\n"
     ]
    },
    {
     "name": "stderr",
     "output_type": "stream",
     "text": [
      "100%|██████████| 48/48 [00:10<00:00,  4.69it/s]\n"
     ]
    },
    {
     "name": "stdout",
     "output_type": "stream",
     "text": [
      "---------------Epoch:3 Train_loss:1.0669591426849365 Val_loss:1.0569374561309814 Dir Accuracy:f0.5338541865348816\n"
     ]
    },
    {
     "name": "stderr",
     "output_type": "stream",
     "text": [
      "100%|██████████| 48/48 [00:10<00:00,  4.60it/s]\n"
     ]
    },
    {
     "name": "stdout",
     "output_type": "stream",
     "text": [
      "---------------Epoch:4 Train_loss:1.0483744144439697 Val_loss:1.0406734943389893 Dir Accuracy:f0.5234375\n"
     ]
    },
    {
     "name": "stderr",
     "output_type": "stream",
     "text": [
      "100%|██████████| 48/48 [00:10<00:00,  4.73it/s]\n"
     ]
    },
    {
     "name": "stdout",
     "output_type": "stream",
     "text": [
      "---------------Epoch:5 Train_loss:1.0489025115966797 Val_loss:1.061060905456543 Dir Accuracy:f0.5234375\n"
     ]
    },
    {
     "name": "stderr",
     "output_type": "stream",
     "text": [
      "100%|██████████| 48/48 [00:10<00:00,  4.60it/s]\n"
     ]
    },
    {
     "name": "stdout",
     "output_type": "stream",
     "text": [
      "---------------Epoch:6 Train_loss:0.9743388891220093 Val_loss:0.9736000299453735 Dir Accuracy:f0.4947916865348816\n"
     ]
    },
    {
     "name": "stderr",
     "output_type": "stream",
     "text": [
      "100%|██████████| 48/48 [00:10<00:00,  4.57it/s]\n"
     ]
    },
    {
     "name": "stdout",
     "output_type": "stream",
     "text": [
      "---------------Epoch:7 Train_loss:0.9282748699188232 Val_loss:0.9605404734611511 Dir Accuracy:f0.5234375\n"
     ]
    },
    {
     "name": "stderr",
     "output_type": "stream",
     "text": [
      "100%|██████████| 48/48 [00:10<00:00,  4.71it/s]\n"
     ]
    },
    {
     "name": "stdout",
     "output_type": "stream",
     "text": [
      "---------------Epoch:8 Train_loss:0.9076797962188721 Val_loss:0.9598299264907837 Dir Accuracy:f0.515625\n"
     ]
    },
    {
     "name": "stderr",
     "output_type": "stream",
     "text": [
      "100%|██████████| 48/48 [00:10<00:00,  4.58it/s]\n"
     ]
    },
    {
     "name": "stdout",
     "output_type": "stream",
     "text": [
      "---------------Epoch:9 Train_loss:0.8746248483657837 Val_loss:0.9321490526199341 Dir Accuracy:f0.5390625\n"
     ]
    },
    {
     "name": "stderr",
     "output_type": "stream",
     "text": [
      "100%|██████████| 48/48 [00:10<00:00,  4.55it/s]\n"
     ]
    },
    {
     "name": "stdout",
     "output_type": "stream",
     "text": [
      "---------------Epoch:10 Train_loss:0.8356545567512512 Val_loss:0.941940426826477 Dir Accuracy:f0.53125\n"
     ]
    },
    {
     "name": "stderr",
     "output_type": "stream",
     "text": [
      "100%|██████████| 48/48 [00:10<00:00,  4.67it/s]\n"
     ]
    },
    {
     "name": "stdout",
     "output_type": "stream",
     "text": [
      "---------------Epoch:11 Train_loss:0.8134922981262207 Val_loss:0.9071192145347595 Dir Accuracy:f0.5390625\n"
     ]
    },
    {
     "name": "stderr",
     "output_type": "stream",
     "text": [
      "100%|██████████| 48/48 [00:10<00:00,  4.67it/s]\n"
     ]
    },
    {
     "name": "stdout",
     "output_type": "stream",
     "text": [
      "---------------Epoch:12 Train_loss:0.787194550037384 Val_loss:0.8855232000350952 Dir Accuracy:f0.5390625\n"
     ]
    },
    {
     "name": "stderr",
     "output_type": "stream",
     "text": [
      "100%|██████████| 48/48 [00:09<00:00,  4.82it/s]\n"
     ]
    },
    {
     "name": "stdout",
     "output_type": "stream",
     "text": [
      "---------------Epoch:13 Train_loss:0.7705034613609314 Val_loss:0.8947542905807495 Dir Accuracy:f0.5182291865348816\n"
     ]
    },
    {
     "name": "stderr",
     "output_type": "stream",
     "text": [
      "100%|██████████| 48/48 [00:07<00:00,  6.27it/s]\n"
     ]
    },
    {
     "name": "stdout",
     "output_type": "stream",
     "text": [
      "---------------Epoch:14 Train_loss:0.7752701044082642 Val_loss:0.8968023061752319 Dir Accuracy:f0.5286458730697632\n"
     ]
    },
    {
     "name": "stderr",
     "output_type": "stream",
     "text": [
      "100%|██████████| 48/48 [00:10<00:00,  4.67it/s]\n"
     ]
    },
    {
     "name": "stdout",
     "output_type": "stream",
     "text": [
      "---------------Epoch:15 Train_loss:0.7455719113349915 Val_loss:0.8516208529472351 Dir Accuracy:f0.5338541865348816\n"
     ]
    },
    {
     "name": "stderr",
     "output_type": "stream",
     "text": [
      "100%|██████████| 48/48 [00:10<00:00,  4.71it/s]\n"
     ]
    },
    {
     "name": "stdout",
     "output_type": "stream",
     "text": [
      "---------------Epoch:16 Train_loss:0.7128376364707947 Val_loss:0.8385736346244812 Dir Accuracy:f0.515625\n"
     ]
    },
    {
     "name": "stderr",
     "output_type": "stream",
     "text": [
      "100%|██████████| 48/48 [00:10<00:00,  4.58it/s]\n"
     ]
    },
    {
     "name": "stdout",
     "output_type": "stream",
     "text": [
      "---------------Epoch:17 Train_loss:0.6987125277519226 Val_loss:0.8403552770614624 Dir Accuracy:f0.546875\n"
     ]
    },
    {
     "name": "stderr",
     "output_type": "stream",
     "text": [
      "100%|██████████| 48/48 [00:10<00:00,  4.65it/s]\n"
     ]
    },
    {
     "name": "stdout",
     "output_type": "stream",
     "text": [
      "---------------Epoch:18 Train_loss:0.7271060943603516 Val_loss:0.8519585132598877 Dir Accuracy:f0.5625\n"
     ]
    },
    {
     "name": "stderr",
     "output_type": "stream",
     "text": [
      "100%|██████████| 48/48 [00:10<00:00,  4.68it/s]\n"
     ]
    },
    {
     "name": "stdout",
     "output_type": "stream",
     "text": [
      "---------------Epoch:19 Train_loss:0.6930651068687439 Val_loss:0.8185067176818848 Dir Accuracy:f0.5963541865348816\n"
     ]
    },
    {
     "name": "stderr",
     "output_type": "stream",
     "text": [
      "100%|██████████| 48/48 [00:10<00:00,  4.71it/s]\n"
     ]
    },
    {
     "name": "stdout",
     "output_type": "stream",
     "text": [
      "---------------Epoch:20 Train_loss:0.6850357055664062 Val_loss:0.8719497919082642 Dir Accuracy:f0.5390625\n"
     ]
    },
    {
     "name": "stderr",
     "output_type": "stream",
     "text": [
      "100%|██████████| 48/48 [00:05<00:00,  8.59it/s]\n"
     ]
    },
    {
     "name": "stdout",
     "output_type": "stream",
     "text": [
      "---------------Epoch:21 Train_loss:0.6936715245246887 Val_loss:0.8383302092552185 Dir Accuracy:f0.5390625\n"
     ]
    },
    {
     "name": "stderr",
     "output_type": "stream",
     "text": [
      "100%|██████████| 48/48 [00:10<00:00,  4.62it/s]\n"
     ]
    },
    {
     "name": "stdout",
     "output_type": "stream",
     "text": [
      "---------------Epoch:22 Train_loss:0.6390835642814636 Val_loss:0.862720251083374 Dir Accuracy:f0.546875\n"
     ]
    },
    {
     "name": "stderr",
     "output_type": "stream",
     "text": [
      "100%|██████████| 48/48 [00:10<00:00,  4.64it/s]\n"
     ]
    },
    {
     "name": "stdout",
     "output_type": "stream",
     "text": [
      "---------------Epoch:23 Train_loss:0.6622306704521179 Val_loss:0.8218684196472168 Dir Accuracy:f0.5182291865348816\n"
     ]
    },
    {
     "name": "stderr",
     "output_type": "stream",
     "text": [
      "100%|██████████| 48/48 [00:10<00:00,  4.62it/s]\n"
     ]
    },
    {
     "name": "stdout",
     "output_type": "stream",
     "text": [
      "---------------Epoch:24 Train_loss:0.6370169520378113 Val_loss:0.8969261646270752 Dir Accuracy:f0.5703125\n"
     ]
    },
    {
     "name": "stderr",
     "output_type": "stream",
     "text": [
      "100%|██████████| 48/48 [00:10<00:00,  4.61it/s]\n"
     ]
    },
    {
     "name": "stdout",
     "output_type": "stream",
     "text": [
      "---------------Epoch:25 Train_loss:0.6307876706123352 Val_loss:0.8000881671905518 Dir Accuracy:f0.5859375\n"
     ]
    },
    {
     "name": "stderr",
     "output_type": "stream",
     "text": [
      "100%|██████████| 48/48 [00:10<00:00,  4.68it/s]\n"
     ]
    },
    {
     "name": "stdout",
     "output_type": "stream",
     "text": [
      "---------------Epoch:26 Train_loss:0.649197518825531 Val_loss:0.7742929458618164 Dir Accuracy:f0.5989583730697632\n"
     ]
    },
    {
     "name": "stderr",
     "output_type": "stream",
     "text": [
      "100%|██████████| 48/48 [00:10<00:00,  4.68it/s]\n"
     ]
    },
    {
     "name": "stdout",
     "output_type": "stream",
     "text": [
      "---------------Epoch:27 Train_loss:0.6270840764045715 Val_loss:0.810411810874939 Dir Accuracy:f0.5546875\n"
     ]
    },
    {
     "name": "stderr",
     "output_type": "stream",
     "text": [
      "100%|██████████| 48/48 [00:10<00:00,  4.68it/s]\n"
     ]
    },
    {
     "name": "stdout",
     "output_type": "stream",
     "text": [
      "---------------Epoch:28 Train_loss:0.6202566623687744 Val_loss:0.7605050802230835 Dir Accuracy:f0.5911458730697632\n"
     ]
    },
    {
     "name": "stderr",
     "output_type": "stream",
     "text": [
      "100%|██████████| 48/48 [00:10<00:00,  4.66it/s]\n"
     ]
    },
    {
     "name": "stdout",
     "output_type": "stream",
     "text": [
      "---------------Epoch:29 Train_loss:0.6303531527519226 Val_loss:0.796642005443573 Dir Accuracy:f0.5442708730697632\n"
     ]
    },
    {
     "name": "stderr",
     "output_type": "stream",
     "text": [
      "100%|██████████| 48/48 [00:10<00:00,  4.68it/s]\n"
     ]
    },
    {
     "name": "stdout",
     "output_type": "stream",
     "text": [
      "---------------Epoch:30 Train_loss:0.6202698945999146 Val_loss:0.7840925455093384 Dir Accuracy:f0.5833333730697632\n"
     ]
    },
    {
     "name": "stderr",
     "output_type": "stream",
     "text": [
      "100%|██████████| 48/48 [00:10<00:00,  4.62it/s]\n"
     ]
    },
    {
     "name": "stdout",
     "output_type": "stream",
     "text": [
      "---------------Epoch:31 Train_loss:0.608648419380188 Val_loss:0.7485378980636597 Dir Accuracy:f0.5885416865348816\n"
     ]
    },
    {
     "name": "stderr",
     "output_type": "stream",
     "text": [
      "100%|██████████| 48/48 [00:10<00:00,  4.66it/s]\n"
     ]
    },
    {
     "name": "stdout",
     "output_type": "stream",
     "text": [
      "---------------Epoch:32 Train_loss:0.5986078977584839 Val_loss:0.8070270419120789 Dir Accuracy:f0.5677083730697632\n"
     ]
    },
    {
     "name": "stderr",
     "output_type": "stream",
     "text": [
      "100%|██████████| 48/48 [00:10<00:00,  4.61it/s]\n"
     ]
    },
    {
     "name": "stdout",
     "output_type": "stream",
     "text": [
      "---------------Epoch:33 Train_loss:0.6067679524421692 Val_loss:0.7557048797607422 Dir Accuracy:f0.5546875\n"
     ]
    },
    {
     "name": "stderr",
     "output_type": "stream",
     "text": [
      "100%|██████████| 48/48 [00:10<00:00,  4.60it/s]\n"
     ]
    },
    {
     "name": "stdout",
     "output_type": "stream",
     "text": [
      "---------------Epoch:34 Train_loss:0.5888243913650513 Val_loss:0.813650369644165 Dir Accuracy:f0.5755208730697632\n"
     ]
    },
    {
     "name": "stderr",
     "output_type": "stream",
     "text": [
      "100%|██████████| 48/48 [00:10<00:00,  4.61it/s]\n"
     ]
    },
    {
     "name": "stdout",
     "output_type": "stream",
     "text": [
      "---------------Epoch:35 Train_loss:0.5989402532577515 Val_loss:0.7764931917190552 Dir Accuracy:f0.5625\n"
     ]
    },
    {
     "name": "stderr",
     "output_type": "stream",
     "text": [
      "100%|██████████| 48/48 [00:10<00:00,  4.69it/s]\n"
     ]
    },
    {
     "name": "stdout",
     "output_type": "stream",
     "text": [
      "---------------Epoch:36 Train_loss:0.5937104225158691 Val_loss:0.7446441650390625 Dir Accuracy:f0.5703125\n"
     ]
    },
    {
     "name": "stderr",
     "output_type": "stream",
     "text": [
      "100%|██████████| 48/48 [00:10<00:00,  4.65it/s]\n"
     ]
    },
    {
     "name": "stdout",
     "output_type": "stream",
     "text": [
      "---------------Epoch:37 Train_loss:0.5838090777397156 Val_loss:0.7498912215232849 Dir Accuracy:f0.5807291865348816\n"
     ]
    },
    {
     "name": "stderr",
     "output_type": "stream",
     "text": [
      "100%|██████████| 48/48 [00:10<00:00,  4.61it/s]\n"
     ]
    },
    {
     "name": "stdout",
     "output_type": "stream",
     "text": [
      "---------------Epoch:38 Train_loss:0.5767771601676941 Val_loss:0.7870323657989502 Dir Accuracy:f0.5833333730697632\n"
     ]
    },
    {
     "name": "stderr",
     "output_type": "stream",
     "text": [
      "100%|██████████| 48/48 [00:10<00:00,  4.67it/s]\n"
     ]
    },
    {
     "name": "stdout",
     "output_type": "stream",
     "text": [
      "---------------Epoch:39 Train_loss:0.5813152194023132 Val_loss:0.790418267250061 Dir Accuracy:f0.5703125\n"
     ]
    },
    {
     "name": "stderr",
     "output_type": "stream",
     "text": [
      "100%|██████████| 48/48 [00:10<00:00,  4.60it/s]\n"
     ]
    },
    {
     "name": "stdout",
     "output_type": "stream",
     "text": [
      "---------------Epoch:40 Train_loss:0.5743532776832581 Val_loss:0.7945875525474548 Dir Accuracy:f0.578125\n"
     ]
    },
    {
     "name": "stderr",
     "output_type": "stream",
     "text": [
      "100%|██████████| 48/48 [00:10<00:00,  4.70it/s]\n"
     ]
    },
    {
     "name": "stdout",
     "output_type": "stream",
     "text": [
      "---------------Epoch:41 Train_loss:0.5657331943511963 Val_loss:0.7724124789237976 Dir Accuracy:f0.578125\n"
     ]
    },
    {
     "name": "stderr",
     "output_type": "stream",
     "text": [
      "100%|██████████| 48/48 [00:10<00:00,  4.67it/s]\n"
     ]
    },
    {
     "name": "stdout",
     "output_type": "stream",
     "text": [
      "---------------Epoch:42 Train_loss:0.5737091898918152 Val_loss:0.7745506167411804 Dir Accuracy:f0.5755208730697632\n"
     ]
    },
    {
     "name": "stderr",
     "output_type": "stream",
     "text": [
      "100%|██████████| 48/48 [00:10<00:00,  4.62it/s]\n"
     ]
    },
    {
     "name": "stdout",
     "output_type": "stream",
     "text": [
      "---------------Epoch:43 Train_loss:0.5865711569786072 Val_loss:0.8966092467308044 Dir Accuracy:f0.546875\n"
     ]
    },
    {
     "name": "stderr",
     "output_type": "stream",
     "text": [
      "100%|██████████| 48/48 [00:10<00:00,  4.60it/s]\n"
     ]
    },
    {
     "name": "stdout",
     "output_type": "stream",
     "text": [
      "---------------Epoch:44 Train_loss:0.5821642875671387 Val_loss:0.7870688438415527 Dir Accuracy:f0.5755208730697632\n"
     ]
    },
    {
     "name": "stderr",
     "output_type": "stream",
     "text": [
      "100%|██████████| 48/48 [00:10<00:00,  4.57it/s]\n"
     ]
    },
    {
     "name": "stdout",
     "output_type": "stream",
     "text": [
      "---------------Epoch:45 Train_loss:0.5554636716842651 Val_loss:0.7649709582328796 Dir Accuracy:f0.5572916865348816\n"
     ]
    },
    {
     "name": "stderr",
     "output_type": "stream",
     "text": [
      "100%|██████████| 48/48 [00:10<00:00,  4.63it/s]\n"
     ]
    },
    {
     "name": "stdout",
     "output_type": "stream",
     "text": [
      "---------------Epoch:46 Train_loss:0.5703096985816956 Val_loss:0.7722985744476318 Dir Accuracy:f0.5911458730697632\n"
     ]
    },
    {
     "name": "stderr",
     "output_type": "stream",
     "text": [
      "100%|██████████| 48/48 [00:10<00:00,  4.64it/s]\n"
     ]
    },
    {
     "name": "stdout",
     "output_type": "stream",
     "text": [
      "---------------Epoch:47 Train_loss:0.5664077997207642 Val_loss:0.8174983263015747 Dir Accuracy:f0.5677083730697632\n"
     ]
    },
    {
     "name": "stderr",
     "output_type": "stream",
     "text": [
      "100%|██████████| 48/48 [00:10<00:00,  4.64it/s]\n"
     ]
    },
    {
     "name": "stdout",
     "output_type": "stream",
     "text": [
      "---------------Epoch:48 Train_loss:0.5646381378173828 Val_loss:0.7178103923797607 Dir Accuracy:f0.5885416865348816\n"
     ]
    },
    {
     "name": "stderr",
     "output_type": "stream",
     "text": [
      "100%|██████████| 48/48 [00:10<00:00,  4.61it/s]\n"
     ]
    },
    {
     "name": "stdout",
     "output_type": "stream",
     "text": [
      "---------------Epoch:49 Train_loss:0.5499491691589355 Val_loss:0.7529148459434509 Dir Accuracy:f0.5755208730697632\n"
     ]
    },
    {
     "name": "stderr",
     "output_type": "stream",
     "text": [
      "100%|██████████| 48/48 [00:10<00:00,  4.67it/s]\n"
     ]
    },
    {
     "name": "stdout",
     "output_type": "stream",
     "text": [
      "---------------Epoch:50 Train_loss:0.5425423383712769 Val_loss:0.7517778873443604 Dir Accuracy:f0.59375\n"
     ]
    },
    {
     "name": "stderr",
     "output_type": "stream",
     "text": [
      "100%|██████████| 48/48 [00:10<00:00,  4.67it/s]\n"
     ]
    },
    {
     "name": "stdout",
     "output_type": "stream",
     "text": [
      "---------------Epoch:51 Train_loss:0.5401037931442261 Val_loss:0.7116047739982605 Dir Accuracy:f0.6223958730697632\n"
     ]
    },
    {
     "name": "stderr",
     "output_type": "stream",
     "text": [
      "100%|██████████| 48/48 [00:10<00:00,  4.72it/s]\n"
     ]
    },
    {
     "name": "stdout",
     "output_type": "stream",
     "text": [
      "---------------Epoch:52 Train_loss:0.5196380019187927 Val_loss:0.764117956161499 Dir Accuracy:f0.59375\n"
     ]
    },
    {
     "name": "stderr",
     "output_type": "stream",
     "text": [
      "100%|██████████| 48/48 [00:10<00:00,  4.68it/s]\n"
     ]
    },
    {
     "name": "stdout",
     "output_type": "stream",
     "text": [
      "---------------Epoch:53 Train_loss:0.5248827338218689 Val_loss:0.7475563287734985 Dir Accuracy:f0.5989583730697632\n"
     ]
    },
    {
     "name": "stderr",
     "output_type": "stream",
     "text": [
      "100%|██████████| 48/48 [00:10<00:00,  4.60it/s]\n"
     ]
    },
    {
     "name": "stdout",
     "output_type": "stream",
     "text": [
      "---------------Epoch:54 Train_loss:0.5313603281974792 Val_loss:0.7649135589599609 Dir Accuracy:f0.6145833730697632\n"
     ]
    },
    {
     "name": "stderr",
     "output_type": "stream",
     "text": [
      "100%|██████████| 48/48 [00:10<00:00,  4.55it/s]\n"
     ]
    },
    {
     "name": "stdout",
     "output_type": "stream",
     "text": [
      "---------------Epoch:55 Train_loss:0.5187211632728577 Val_loss:0.7320116758346558 Dir Accuracy:f0.5598958730697632\n"
     ]
    },
    {
     "name": "stderr",
     "output_type": "stream",
     "text": [
      "100%|██████████| 48/48 [00:10<00:00,  4.67it/s]\n"
     ]
    },
    {
     "name": "stdout",
     "output_type": "stream",
     "text": [
      "---------------Epoch:56 Train_loss:0.5134475827217102 Val_loss:0.7096344232559204 Dir Accuracy:f0.609375\n"
     ]
    },
    {
     "name": "stderr",
     "output_type": "stream",
     "text": [
      "100%|██████████| 48/48 [00:10<00:00,  4.71it/s]\n"
     ]
    },
    {
     "name": "stdout",
     "output_type": "stream",
     "text": [
      "---------------Epoch:57 Train_loss:0.4975650906562805 Val_loss:0.7518224120140076 Dir Accuracy:f0.5729166865348816\n"
     ]
    },
    {
     "name": "stderr",
     "output_type": "stream",
     "text": [
      "100%|██████████| 48/48 [00:10<00:00,  4.69it/s]\n"
     ]
    },
    {
     "name": "stdout",
     "output_type": "stream",
     "text": [
      "---------------Epoch:58 Train_loss:0.5189268589019775 Val_loss:0.7187508344650269 Dir Accuracy:f0.5911458730697632\n"
     ]
    },
    {
     "name": "stderr",
     "output_type": "stream",
     "text": [
      "100%|██████████| 48/48 [00:10<00:00,  4.62it/s]\n"
     ]
    },
    {
     "name": "stdout",
     "output_type": "stream",
     "text": [
      "---------------Epoch:59 Train_loss:0.49171388149261475 Val_loss:0.7607221007347107 Dir Accuracy:f0.59375\n"
     ]
    },
    {
     "name": "stderr",
     "output_type": "stream",
     "text": [
      "100%|██████████| 48/48 [00:10<00:00,  4.56it/s]\n"
     ]
    },
    {
     "name": "stdout",
     "output_type": "stream",
     "text": [
      "---------------Epoch:60 Train_loss:0.49238166213035583 Val_loss:0.7365514636039734 Dir Accuracy:f0.5885416865348816\n"
     ]
    },
    {
     "name": "stderr",
     "output_type": "stream",
     "text": [
      "100%|██████████| 48/48 [00:10<00:00,  4.62it/s]\n"
     ]
    },
    {
     "name": "stdout",
     "output_type": "stream",
     "text": [
      "---------------Epoch:61 Train_loss:0.5090898275375366 Val_loss:0.7257723808288574 Dir Accuracy:f0.6145833730697632\n"
     ]
    },
    {
     "name": "stderr",
     "output_type": "stream",
     "text": [
      "100%|██████████| 48/48 [00:10<00:00,  4.68it/s]\n"
     ]
    },
    {
     "name": "stdout",
     "output_type": "stream",
     "text": [
      "---------------Epoch:62 Train_loss:0.4969403147697449 Val_loss:0.7269217371940613 Dir Accuracy:f0.5859375\n"
     ]
    },
    {
     "name": "stderr",
     "output_type": "stream",
     "text": [
      "100%|██████████| 48/48 [00:10<00:00,  4.72it/s]\n"
     ]
    },
    {
     "name": "stdout",
     "output_type": "stream",
     "text": [
      "---------------Epoch:63 Train_loss:0.5358620285987854 Val_loss:0.7573896646499634 Dir Accuracy:f0.5833333730697632\n"
     ]
    },
    {
     "name": "stderr",
     "output_type": "stream",
     "text": [
      "100%|██████████| 48/48 [00:10<00:00,  4.67it/s]\n"
     ]
    },
    {
     "name": "stdout",
     "output_type": "stream",
     "text": [
      "---------------Epoch:64 Train_loss:0.520121693611145 Val_loss:0.7376230955123901 Dir Accuracy:f0.6119791865348816\n"
     ]
    },
    {
     "name": "stderr",
     "output_type": "stream",
     "text": [
      "100%|██████████| 48/48 [00:10<00:00,  4.56it/s]\n"
     ]
    },
    {
     "name": "stdout",
     "output_type": "stream",
     "text": [
      "---------------Epoch:65 Train_loss:0.5020732283592224 Val_loss:0.737779974937439 Dir Accuracy:f0.5963541865348816\n"
     ]
    },
    {
     "name": "stderr",
     "output_type": "stream",
     "text": [
      "100%|██████████| 48/48 [00:10<00:00,  4.65it/s]\n"
     ]
    },
    {
     "name": "stdout",
     "output_type": "stream",
     "text": [
      "---------------Epoch:66 Train_loss:0.48318785429000854 Val_loss:0.7460453510284424 Dir Accuracy:f0.5859375\n"
     ]
    },
    {
     "name": "stderr",
     "output_type": "stream",
     "text": [
      "100%|██████████| 48/48 [00:10<00:00,  4.65it/s]\n"
     ]
    },
    {
     "name": "stdout",
     "output_type": "stream",
     "text": [
      "---------------Epoch:67 Train_loss:0.4858679473400116 Val_loss:0.7570562362670898 Dir Accuracy:f0.6119791865348816\n"
     ]
    },
    {
     "name": "stderr",
     "output_type": "stream",
     "text": [
      "100%|██████████| 48/48 [00:10<00:00,  4.67it/s]\n"
     ]
    },
    {
     "name": "stdout",
     "output_type": "stream",
     "text": [
      "---------------Epoch:68 Train_loss:0.49942708015441895 Val_loss:0.7231744527816772 Dir Accuracy:f0.5989583730697632\n"
     ]
    },
    {
     "name": "stderr",
     "output_type": "stream",
     "text": [
      "100%|██████████| 48/48 [00:10<00:00,  4.64it/s]\n"
     ]
    },
    {
     "name": "stdout",
     "output_type": "stream",
     "text": [
      "---------------Epoch:69 Train_loss:0.48949918150901794 Val_loss:0.7471334338188171 Dir Accuracy:f0.578125\n"
     ]
    },
    {
     "name": "stderr",
     "output_type": "stream",
     "text": [
      "100%|██████████| 48/48 [00:10<00:00,  4.66it/s]\n"
     ]
    },
    {
     "name": "stdout",
     "output_type": "stream",
     "text": [
      "---------------Epoch:70 Train_loss:0.48290884494781494 Val_loss:0.7688261270523071 Dir Accuracy:f0.609375\n"
     ]
    },
    {
     "name": "stderr",
     "output_type": "stream",
     "text": [
      "100%|██████████| 48/48 [00:10<00:00,  4.64it/s]\n"
     ]
    },
    {
     "name": "stdout",
     "output_type": "stream",
     "text": [
      "---------------Epoch:71 Train_loss:0.499950647354126 Val_loss:0.7449280619621277 Dir Accuracy:f0.5703125\n"
     ]
    },
    {
     "name": "stderr",
     "output_type": "stream",
     "text": [
      "100%|██████████| 48/48 [00:10<00:00,  4.65it/s]\n"
     ]
    },
    {
     "name": "stdout",
     "output_type": "stream",
     "text": [
      "---------------Epoch:72 Train_loss:0.46831244230270386 Val_loss:0.7634710073471069 Dir Accuracy:f0.5703125\n"
     ]
    },
    {
     "name": "stderr",
     "output_type": "stream",
     "text": [
      "100%|██████████| 48/48 [00:10<00:00,  4.68it/s]\n"
     ]
    },
    {
     "name": "stdout",
     "output_type": "stream",
     "text": [
      "---------------Epoch:73 Train_loss:0.5033016204833984 Val_loss:0.7572233080863953 Dir Accuracy:f0.578125\n"
     ]
    },
    {
     "name": "stderr",
     "output_type": "stream",
     "text": [
      "100%|██████████| 48/48 [00:10<00:00,  4.54it/s]\n"
     ]
    },
    {
     "name": "stdout",
     "output_type": "stream",
     "text": [
      "---------------Epoch:74 Train_loss:0.49272018671035767 Val_loss:0.7325038909912109 Dir Accuracy:f0.59375\n"
     ]
    },
    {
     "name": "stderr",
     "output_type": "stream",
     "text": [
      "100%|██████████| 48/48 [00:10<00:00,  4.66it/s]\n"
     ]
    },
    {
     "name": "stdout",
     "output_type": "stream",
     "text": [
      "---------------Epoch:75 Train_loss:0.47506141662597656 Val_loss:0.706917405128479 Dir Accuracy:f0.6067708730697632\n"
     ]
    },
    {
     "name": "stderr",
     "output_type": "stream",
     "text": [
      "100%|██████████| 48/48 [00:10<00:00,  4.64it/s]\n"
     ]
    },
    {
     "name": "stdout",
     "output_type": "stream",
     "text": [
      "---------------Epoch:76 Train_loss:0.4626948833465576 Val_loss:0.7324519157409668 Dir Accuracy:f0.6145833730697632\n"
     ]
    },
    {
     "name": "stderr",
     "output_type": "stream",
     "text": [
      "100%|██████████| 48/48 [00:10<00:00,  4.66it/s]\n"
     ]
    },
    {
     "name": "stdout",
     "output_type": "stream",
     "text": [
      "---------------Epoch:77 Train_loss:0.46233606338500977 Val_loss:0.7534681558609009 Dir Accuracy:f0.5729166865348816\n"
     ]
    },
    {
     "name": "stderr",
     "output_type": "stream",
     "text": [
      "100%|██████████| 48/48 [00:10<00:00,  4.57it/s]\n"
     ]
    },
    {
     "name": "stdout",
     "output_type": "stream",
     "text": [
      "---------------Epoch:78 Train_loss:0.4822043478488922 Val_loss:0.7739011645317078 Dir Accuracy:f0.5729166865348816\n"
     ]
    },
    {
     "name": "stderr",
     "output_type": "stream",
     "text": [
      "100%|██████████| 48/48 [00:10<00:00,  4.62it/s]\n"
     ]
    },
    {
     "name": "stdout",
     "output_type": "stream",
     "text": [
      "---------------Epoch:79 Train_loss:0.4471566677093506 Val_loss:0.7471191883087158 Dir Accuracy:f0.59375\n"
     ]
    },
    {
     "name": "stderr",
     "output_type": "stream",
     "text": [
      "100%|██████████| 48/48 [00:10<00:00,  4.59it/s]\n"
     ]
    },
    {
     "name": "stdout",
     "output_type": "stream",
     "text": [
      "---------------Epoch:80 Train_loss:0.5065033435821533 Val_loss:0.7418828010559082 Dir Accuracy:f0.5989583730697632\n"
     ]
    },
    {
     "name": "stderr",
     "output_type": "stream",
     "text": [
      "100%|██████████| 48/48 [00:10<00:00,  4.63it/s]\n"
     ]
    },
    {
     "name": "stdout",
     "output_type": "stream",
     "text": [
      "---------------Epoch:81 Train_loss:0.4651639461517334 Val_loss:0.7383632063865662 Dir Accuracy:f0.5989583730697632\n"
     ]
    },
    {
     "name": "stderr",
     "output_type": "stream",
     "text": [
      "100%|██████████| 48/48 [00:10<00:00,  4.68it/s]\n"
     ]
    },
    {
     "name": "stdout",
     "output_type": "stream",
     "text": [
      "---------------Epoch:82 Train_loss:0.46779271960258484 Val_loss:0.7321993708610535 Dir Accuracy:f0.5703125\n"
     ]
    },
    {
     "name": "stderr",
     "output_type": "stream",
     "text": [
      "100%|██████████| 48/48 [00:10<00:00,  4.63it/s]\n"
     ]
    },
    {
     "name": "stdout",
     "output_type": "stream",
     "text": [
      "---------------Epoch:83 Train_loss:0.4659724533557892 Val_loss:0.7163485288619995 Dir Accuracy:f0.59375\n"
     ]
    },
    {
     "name": "stderr",
     "output_type": "stream",
     "text": [
      "100%|██████████| 48/48 [00:10<00:00,  4.56it/s]\n"
     ]
    },
    {
     "name": "stdout",
     "output_type": "stream",
     "text": [
      "---------------Epoch:84 Train_loss:0.4568963050842285 Val_loss:0.7244030237197876 Dir Accuracy:f0.5989583730697632\n"
     ]
    },
    {
     "name": "stderr",
     "output_type": "stream",
     "text": [
      "100%|██████████| 48/48 [00:10<00:00,  4.70it/s]\n"
     ]
    },
    {
     "name": "stdout",
     "output_type": "stream",
     "text": [
      "---------------Epoch:85 Train_loss:0.4873141944408417 Val_loss:0.7614827156066895 Dir Accuracy:f0.5572916865348816\n"
     ]
    },
    {
     "name": "stderr",
     "output_type": "stream",
     "text": [
      "100%|██████████| 48/48 [00:10<00:00,  4.69it/s]\n"
     ]
    },
    {
     "name": "stdout",
     "output_type": "stream",
     "text": [
      "---------------Epoch:86 Train_loss:0.4743594527244568 Val_loss:0.7192689776420593 Dir Accuracy:f0.5885416865348816\n"
     ]
    },
    {
     "name": "stderr",
     "output_type": "stream",
     "text": [
      "100%|██████████| 48/48 [00:10<00:00,  4.65it/s]\n"
     ]
    },
    {
     "name": "stdout",
     "output_type": "stream",
     "text": [
      "---------------Epoch:87 Train_loss:0.4681223928928375 Val_loss:0.7584419250488281 Dir Accuracy:f0.5703125\n"
     ]
    },
    {
     "name": "stderr",
     "output_type": "stream",
     "text": [
      "100%|██████████| 48/48 [00:10<00:00,  4.62it/s]\n"
     ]
    },
    {
     "name": "stdout",
     "output_type": "stream",
     "text": [
      "---------------Epoch:88 Train_loss:0.4549023509025574 Val_loss:0.7258748412132263 Dir Accuracy:f0.609375\n"
     ]
    },
    {
     "name": "stderr",
     "output_type": "stream",
     "text": [
      "100%|██████████| 48/48 [00:10<00:00,  4.77it/s]\n"
     ]
    },
    {
     "name": "stdout",
     "output_type": "stream",
     "text": [
      "---------------Epoch:89 Train_loss:0.4660118818283081 Val_loss:0.7629590034484863 Dir Accuracy:f0.6171875\n"
     ]
    },
    {
     "name": "stderr",
     "output_type": "stream",
     "text": [
      "100%|██████████| 48/48 [00:10<00:00,  4.60it/s]\n"
     ]
    },
    {
     "name": "stdout",
     "output_type": "stream",
     "text": [
      "---------------Epoch:90 Train_loss:0.44843897223472595 Val_loss:0.7158414721488953 Dir Accuracy:f0.6197916865348816\n"
     ]
    },
    {
     "name": "stderr",
     "output_type": "stream",
     "text": [
      "100%|██████████| 48/48 [00:10<00:00,  4.65it/s]\n"
     ]
    },
    {
     "name": "stdout",
     "output_type": "stream",
     "text": [
      "---------------Epoch:91 Train_loss:0.4645386040210724 Val_loss:0.7161495685577393 Dir Accuracy:f0.6067708730697632\n"
     ]
    },
    {
     "name": "stderr",
     "output_type": "stream",
     "text": [
      "100%|██████████| 48/48 [00:10<00:00,  4.59it/s]\n"
     ]
    },
    {
     "name": "stdout",
     "output_type": "stream",
     "text": [
      "---------------Epoch:92 Train_loss:0.45463448762893677 Val_loss:0.7473284006118774 Dir Accuracy:f0.5963541865348816\n"
     ]
    },
    {
     "name": "stderr",
     "output_type": "stream",
     "text": [
      "100%|██████████| 48/48 [00:10<00:00,  4.59it/s]\n"
     ]
    },
    {
     "name": "stdout",
     "output_type": "stream",
     "text": [
      "---------------Epoch:93 Train_loss:0.4411589503288269 Val_loss:0.7486924529075623 Dir Accuracy:f0.5651041865348816\n"
     ]
    },
    {
     "name": "stderr",
     "output_type": "stream",
     "text": [
      "100%|██████████| 48/48 [00:10<00:00,  4.69it/s]\n"
     ]
    },
    {
     "name": "stdout",
     "output_type": "stream",
     "text": [
      "---------------Epoch:94 Train_loss:0.4499664008617401 Val_loss:0.7408962249755859 Dir Accuracy:f0.5833333730697632\n"
     ]
    },
    {
     "name": "stderr",
     "output_type": "stream",
     "text": [
      "100%|██████████| 48/48 [00:10<00:00,  4.68it/s]\n"
     ]
    },
    {
     "name": "stdout",
     "output_type": "stream",
     "text": [
      "---------------Epoch:95 Train_loss:0.4466404914855957 Val_loss:0.6994830369949341 Dir Accuracy:f0.6041666865348816\n"
     ]
    },
    {
     "name": "stderr",
     "output_type": "stream",
     "text": [
      "100%|██████████| 48/48 [00:10<00:00,  4.63it/s]\n"
     ]
    },
    {
     "name": "stdout",
     "output_type": "stream",
     "text": [
      "---------------Epoch:96 Train_loss:0.4440115690231323 Val_loss:0.7044845819473267 Dir Accuracy:f0.5963541865348816\n"
     ]
    },
    {
     "name": "stderr",
     "output_type": "stream",
     "text": [
      "100%|██████████| 48/48 [00:10<00:00,  4.57it/s]\n"
     ]
    },
    {
     "name": "stdout",
     "output_type": "stream",
     "text": [
      "---------------Epoch:97 Train_loss:0.44156956672668457 Val_loss:0.7024607062339783 Dir Accuracy:f0.6119791865348816\n"
     ]
    },
    {
     "name": "stderr",
     "output_type": "stream",
     "text": [
      "100%|██████████| 48/48 [00:10<00:00,  4.58it/s]\n"
     ]
    },
    {
     "name": "stdout",
     "output_type": "stream",
     "text": [
      "---------------Epoch:98 Train_loss:0.44737708568573 Val_loss:0.7499611377716064 Dir Accuracy:f0.5807291865348816\n"
     ]
    },
    {
     "name": "stderr",
     "output_type": "stream",
     "text": [
      "100%|██████████| 48/48 [00:10<00:00,  4.67it/s]\n"
     ]
    },
    {
     "name": "stdout",
     "output_type": "stream",
     "text": [
      "---------------Epoch:99 Train_loss:0.4426480531692505 Val_loss:0.7493845820426941 Dir Accuracy:f0.5703125\n"
     ]
    }
   ],
   "source": [
    "train_loss_avg = 100\n",
    "loss_test = 100\n",
    "avg_dir_accuracy = 0 \n",
    "# Training loop\n",
    "for epoch in range(num_epochs):\n",
    "    \n",
    "    model.train()\n",
    "    train_loss_avg = 0\n",
    "    for seq,target,mean,std in tqdm(train_dataloader):\n",
    "        optimizer.zero_grad()\n",
    "        seq = seq.cuda()\n",
    "        predictions = model(seq)\n",
    "        # print(predictions.shape)\n",
    "        loss = criterion(predictions, target.unsqueeze(1).cuda())\n",
    "        loss.backward()\n",
    "        optimizer.step()\n",
    "        train_loss_avg += loss / len(train_dataloader)\n",
    "\n",
    "    if (epoch + 1) % 1 == 0:\n",
    "        with torch.no_grad():\n",
    "            loss_test = 0\n",
    "            avg_dir_accuracy = 0\n",
    "            for data in val_dataloader:\n",
    "                seq,target,mean,std = data\n",
    "                predictions = model(seq.cuda())\n",
    "                # validation loss\n",
    "                batch_loss = criterion(predictions, target.unsqueeze(1).cuda())\n",
    "                loss_test += batch_loss\n",
    "                tst = dir_acc(seq.cuda(),target.cuda(),predictions)\n",
    "                # print('tst',tst)\n",
    "                avg_dir_accuracy += dir_acc(seq.cuda(),target.cuda(),predictions)\n",
    "            loss_test /= len(val_dataloader)\n",
    "            avg_dir_accuracy /= len(val_dataloader)\n",
    "    print ('-'*15 + f'Epoch:{epoch} Train_loss:{train_loss_avg} Val_loss:{loss_test} Dir Accuracy:f{avg_dir_accuracy}')"
   ]
  },
  {
   "cell_type": "code",
   "execution_count": null,
   "metadata": {},
   "outputs": [],
   "source": []
  },
  {
   "cell_type": "code",
   "execution_count": null,
   "metadata": {},
   "outputs": [],
   "source": []
  }
 ],
 "metadata": {
  "kernelspec": {
   "display_name": "Python 3",
   "language": "python",
   "name": "python3"
  },
  "language_info": {
   "codemirror_mode": {
    "name": "ipython",
    "version": 3
   },
   "file_extension": ".py",
   "mimetype": "text/x-python",
   "name": "python",
   "nbconvert_exporter": "python",
   "pygments_lexer": "ipython3",
   "version": "3.8.10"
  }
 },
 "nbformat": 4,
 "nbformat_minor": 2
}
