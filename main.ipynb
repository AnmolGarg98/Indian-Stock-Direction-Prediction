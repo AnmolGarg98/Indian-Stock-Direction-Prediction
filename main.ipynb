{
 "cells": [
  {
   "cell_type": "code",
   "execution_count": 1,
   "metadata": {},
   "outputs": [
    {
     "name": "stderr",
     "output_type": "stream",
     "text": [
      "/data1/home/nidhi2023/.local/lib/python3.8/site-packages/tqdm/auto.py:21: TqdmWarning: IProgress not found. Please update jupyter and ipywidgets. See https://ipywidgets.readthedocs.io/en/stable/user_install.html\n",
      "  from .autonotebook import tqdm as notebook_tqdm\n"
     ]
    }
   ],
   "source": [
    "import math\n",
    "import numpy as np\n",
    "import pandas as pd\n",
    "pd.set_option('display.max_rows', 500)\n",
    "\n",
    "import yfinance as yf\n",
    "\n",
    "import torch\n",
    "import torch.nn as nn\n",
    "import torch.optim as optim\n",
    "from sklearn.preprocessing import MinMaxScaler\n",
    "from torchsummary import summary\n",
    "\n"
   ]
  },
  {
   "cell_type": "code",
   "execution_count": 2,
   "metadata": {},
   "outputs": [],
   "source": [
    "from tqdm import tqdm"
   ]
  },
  {
   "cell_type": "code",
   "execution_count": 3,
   "metadata": {},
   "outputs": [],
   "source": [
    "def calculate_bollinger_bands(data, window=10, num_of_std=2):\n",
    "    \"\"\"Calculate Bollinger Bands\"\"\"\n",
    "    rolling_mean = data.rolling(window=window).mean()\n",
    "    rolling_std = data.rolling(window=window).std()\n",
    "    upper_band = rolling_mean + (rolling_std * num_of_std)\n",
    "    lower_band = rolling_mean - (rolling_std * num_of_std)\n",
    "    return upper_band, lower_band\n",
    "\n",
    "def calculate_rsi(data, window=10):\n",
    "    \"\"\"Calculate Relative Strength Index\"\"\"\n",
    "    delta = data.diff()\n",
    "    gain = delta.clip(lower=0)\n",
    "    loss = -delta.clip(upper=0)\n",
    "    avg_gain = gain.rolling(window=window, min_periods=1).mean()\n",
    "    avg_loss = loss.rolling(window=window, min_periods=1).mean()\n",
    "    rs = avg_gain / avg_loss\n",
    "    rsi = 100 - (100 / (1 + rs))\n",
    "    return rsi\n",
    "\n",
    "def calculate_roc(data, periods=10):\n",
    "    \"\"\"Calculate Rate of Change.\"\"\"\n",
    "    roc = ((data - data.shift(periods)) / data.shift(periods)) * 100\n",
    "    return roc"
   ]
  },
  {
   "cell_type": "code",
   "execution_count": 4,
   "metadata": {},
   "outputs": [],
   "source": [
    "tickers = ['TCS.NS', 'WIPRO.NS', 'HCLTECH.NS', 'INFY.NS', 'LTIM.NS', 'TECHM.NS', '^CNXIT', '^NSEI']"
   ]
  },
  {
   "cell_type": "code",
   "execution_count": 5,
   "metadata": {},
   "outputs": [
    {
     "name": "stderr",
     "output_type": "stream",
     "text": [
      "[*********************100%%**********************]  1 of 1 completed\n",
      "[*********************100%%**********************]  1 of 1 completed\n",
      "[*********************100%%**********************]  1 of 1 completed\n",
      "[*********************100%%**********************]  1 of 1 completed\n",
      "[*********************100%%**********************]  1 of 1 completed\n",
      "[*********************100%%**********************]  1 of 1 completed\n",
      "[*********************100%%**********************]  1 of 1 completed\n",
      "[*********************100%%**********************]  1 of 1 completed\n"
     ]
    }
   ],
   "source": [
    "ticker_data_frames = []\n",
    "stats = {}\n",
    "for ticker in tickers:\n",
    "    \n",
    "    # Download historical data for the ticker\n",
    "    data = yf.download(ticker, period=\"10y\", interval=\"1d\")\n",
    "    # Calculate the daily percentage change\n",
    "    close = data['Close']\n",
    "    high = data['High']\n",
    "    low = data['Low']\n",
    "    upper, lower = calculate_bollinger_bands(close, window=14, num_of_std=2)\n",
    "    width = upper - lower\n",
    "    rsi = calculate_rsi(close, window=14)\n",
    "    roc = calculate_roc(close, periods=14)\n",
    "    volume = data['Volume']\n",
    "    diff = data['Close'].diff(1)\n",
    "    percent_change_close = data['Close'].pct_change() * 100\n",
    "\n",
    "    # Create a DataFrame for the current ticker and append it to the list\n",
    "    ticker_df = pd.DataFrame({\n",
    "        ticker+'_close': close,\n",
    "        ticker+'_high': high,\n",
    "        ticker+'_low': low,\n",
    "        ticker+'_width': width,\n",
    "        ticker+'_rsi': rsi,\n",
    "        ticker+'_roc': roc,\n",
    "        ticker+'_volume': volume,\n",
    "        ticker+'_diff': diff,\n",
    "        ticker+'_percent_change_close': percent_change_close,\n",
    "    })\n",
    "    \n",
    "    MEAN = ticker_df.mean()\n",
    "    STD = ticker_df.std()\n",
    "\n",
    "    # Keep track of mean and std\n",
    "    for column in MEAN.index:\n",
    "      stats[f\"{column}_mean\"] = MEAN[column]\n",
    "      stats[f\"{column}_std\"] = STD[column]\n",
    "    \n",
    "    # # Normalize the training features\n",
    "    ticker_df = (ticker_df - MEAN) / STD\n",
    "\n",
    "    ticker_data_frames.append(ticker_df)"
   ]
  },
  {
   "cell_type": "code",
   "execution_count": 6,
   "metadata": {},
   "outputs": [
    {
     "data": {
      "text/html": [
       "<div>\n",
       "<style scoped>\n",
       "    .dataframe tbody tr th:only-of-type {\n",
       "        vertical-align: middle;\n",
       "    }\n",
       "\n",
       "    .dataframe tbody tr th {\n",
       "        vertical-align: top;\n",
       "    }\n",
       "\n",
       "    .dataframe thead th {\n",
       "        text-align: right;\n",
       "    }\n",
       "</style>\n",
       "<table border=\"1\" class=\"dataframe\">\n",
       "  <thead>\n",
       "    <tr style=\"text-align: right;\">\n",
       "      <th></th>\n",
       "      <th>TCS.NS_close_mean</th>\n",
       "      <th>TCS.NS_close_std</th>\n",
       "      <th>TCS.NS_high_mean</th>\n",
       "      <th>TCS.NS_high_std</th>\n",
       "      <th>TCS.NS_low_mean</th>\n",
       "      <th>TCS.NS_low_std</th>\n",
       "      <th>TCS.NS_width_mean</th>\n",
       "      <th>TCS.NS_width_std</th>\n",
       "      <th>TCS.NS_rsi_mean</th>\n",
       "      <th>TCS.NS_rsi_std</th>\n",
       "      <th>...</th>\n",
       "      <th>^NSEI_rsi_mean</th>\n",
       "      <th>^NSEI_rsi_std</th>\n",
       "      <th>^NSEI_roc_mean</th>\n",
       "      <th>^NSEI_roc_std</th>\n",
       "      <th>^NSEI_volume_mean</th>\n",
       "      <th>^NSEI_volume_std</th>\n",
       "      <th>^NSEI_diff_mean</th>\n",
       "      <th>^NSEI_diff_std</th>\n",
       "      <th>^NSEI_percent_change_close_mean</th>\n",
       "      <th>^NSEI_percent_change_close_std</th>\n",
       "    </tr>\n",
       "  </thead>\n",
       "  <tbody>\n",
       "    <tr>\n",
       "      <th>0</th>\n",
       "      <td>2288.242073</td>\n",
       "      <td>979.319322</td>\n",
       "      <td>2311.089348</td>\n",
       "      <td>987.195645</td>\n",
       "      <td>2265.710511</td>\n",
       "      <td>971.326023</td>\n",
       "      <td>184.863584</td>\n",
       "      <td>116.623494</td>\n",
       "      <td>52.598581</td>\n",
       "      <td>16.551548</td>\n",
       "      <td>...</td>\n",
       "      <td>55.990412</td>\n",
       "      <td>17.351379</td>\n",
       "      <td>0.746679</td>\n",
       "      <td>3.93005</td>\n",
       "      <td>316473.023635</td>\n",
       "      <td>197530.962957</td>\n",
       "      <td>6.94417</td>\n",
       "      <td>130.189138</td>\n",
       "      <td>0.053165</td>\n",
       "      <td>1.046681</td>\n",
       "    </tr>\n",
       "  </tbody>\n",
       "</table>\n",
       "<p>1 rows × 144 columns</p>\n",
       "</div>"
      ],
      "text/plain": [
       "   TCS.NS_close_mean  TCS.NS_close_std  TCS.NS_high_mean  TCS.NS_high_std  \\\n",
       "0        2288.242073        979.319322       2311.089348       987.195645   \n",
       "\n",
       "   TCS.NS_low_mean  TCS.NS_low_std  TCS.NS_width_mean  TCS.NS_width_std  \\\n",
       "0      2265.710511      971.326023         184.863584        116.623494   \n",
       "\n",
       "   TCS.NS_rsi_mean  TCS.NS_rsi_std  ...  ^NSEI_rsi_mean  ^NSEI_rsi_std  \\\n",
       "0        52.598581       16.551548  ...       55.990412      17.351379   \n",
       "\n",
       "   ^NSEI_roc_mean  ^NSEI_roc_std  ^NSEI_volume_mean  ^NSEI_volume_std  \\\n",
       "0        0.746679        3.93005      316473.023635     197530.962957   \n",
       "\n",
       "   ^NSEI_diff_mean  ^NSEI_diff_std  ^NSEI_percent_change_close_mean  \\\n",
       "0          6.94417      130.189138                         0.053165   \n",
       "\n",
       "   ^NSEI_percent_change_close_std  \n",
       "0                        1.046681  \n",
       "\n",
       "[1 rows x 144 columns]"
      ]
     },
     "execution_count": 6,
     "metadata": {},
     "output_type": "execute_result"
    }
   ],
   "source": [
    "# Convert the dictionary containing feature statistics to a DataFrame for easier access\n",
    "stats = pd.DataFrame([stats], index=[0])\n",
    "\n",
    "# Display the DataFrame to verify its structure\n",
    "stats.head()"
   ]
  },
  {
   "cell_type": "code",
   "execution_count": 7,
   "metadata": {},
   "outputs": [
    {
     "data": {
      "text/html": [
       "<div>\n",
       "<style scoped>\n",
       "    .dataframe tbody tr th:only-of-type {\n",
       "        vertical-align: middle;\n",
       "    }\n",
       "\n",
       "    .dataframe tbody tr th {\n",
       "        vertical-align: top;\n",
       "    }\n",
       "\n",
       "    .dataframe thead th {\n",
       "        text-align: right;\n",
       "    }\n",
       "</style>\n",
       "<table border=\"1\" class=\"dataframe\">\n",
       "  <thead>\n",
       "    <tr style=\"text-align: right;\">\n",
       "      <th></th>\n",
       "      <th>TCS.NS_close</th>\n",
       "      <th>TCS.NS_high</th>\n",
       "      <th>TCS.NS_low</th>\n",
       "      <th>TCS.NS_width</th>\n",
       "      <th>TCS.NS_rsi</th>\n",
       "      <th>TCS.NS_roc</th>\n",
       "      <th>TCS.NS_volume</th>\n",
       "      <th>TCS.NS_diff</th>\n",
       "      <th>TCS.NS_percent_change_close</th>\n",
       "      <th>WIPRO.NS_close</th>\n",
       "      <th>...</th>\n",
       "      <th>^CNXIT_percent_change_close</th>\n",
       "      <th>^NSEI_close</th>\n",
       "      <th>^NSEI_high</th>\n",
       "      <th>^NSEI_low</th>\n",
       "      <th>^NSEI_width</th>\n",
       "      <th>^NSEI_rsi</th>\n",
       "      <th>^NSEI_roc</th>\n",
       "      <th>^NSEI_volume</th>\n",
       "      <th>^NSEI_diff</th>\n",
       "      <th>^NSEI_percent_change_close</th>\n",
       "    </tr>\n",
       "    <tr>\n",
       "      <th>Date</th>\n",
       "      <th></th>\n",
       "      <th></th>\n",
       "      <th></th>\n",
       "      <th></th>\n",
       "      <th></th>\n",
       "      <th></th>\n",
       "      <th></th>\n",
       "      <th></th>\n",
       "      <th></th>\n",
       "      <th></th>\n",
       "      <th></th>\n",
       "      <th></th>\n",
       "      <th></th>\n",
       "      <th></th>\n",
       "      <th></th>\n",
       "      <th></th>\n",
       "      <th></th>\n",
       "      <th></th>\n",
       "      <th></th>\n",
       "      <th></th>\n",
       "      <th></th>\n",
       "    </tr>\n",
       "  </thead>\n",
       "  <tbody>\n",
       "    <tr>\n",
       "      <th>2016-12-12</th>\n",
       "      <td>-1.209148</td>\n",
       "      <td>-1.217884</td>\n",
       "      <td>-1.219169</td>\n",
       "      <td>-0.758105</td>\n",
       "      <td>0.398318</td>\n",
       "      <td>0.489847</td>\n",
       "      <td>-0.565092</td>\n",
       "      <td>0.147699</td>\n",
       "      <td>0.353810</td>\n",
       "      <td>-1.078486</td>\n",
       "      <td>...</td>\n",
       "      <td>46.044367</td>\n",
       "      <td>-1.035195</td>\n",
       "      <td>-1.033337</td>\n",
       "      <td>-1.027708</td>\n",
       "      <td>-0.810070</td>\n",
       "      <td>0.230330</td>\n",
       "      <td>0.345788</td>\n",
       "      <td>-1.054888</td>\n",
       "      <td>-0.751940</td>\n",
       "      <td>-1.102555</td>\n",
       "    </tr>\n",
       "    <tr>\n",
       "      <th>2016-12-13</th>\n",
       "      <td>-1.213181</td>\n",
       "      <td>-1.217681</td>\n",
       "      <td>-1.208874</td>\n",
       "      <td>-0.811018</td>\n",
       "      <td>0.188074</td>\n",
       "      <td>0.225403</td>\n",
       "      <td>-0.216110</td>\n",
       "      <td>-0.145681</td>\n",
       "      <td>-0.279877</td>\n",
       "      <td>-1.050415</td>\n",
       "      <td>...</td>\n",
       "      <td>0.035475</td>\n",
       "      <td>-1.023867</td>\n",
       "      <td>-1.033736</td>\n",
       "      <td>-1.027407</td>\n",
       "      <td>-0.838771</td>\n",
       "      <td>0.283735</td>\n",
       "      <td>0.407070</td>\n",
       "      <td>-0.670644</td>\n",
       "      <td>0.338399</td>\n",
       "      <td>0.545542</td>\n",
       "    </tr>\n",
       "  </tbody>\n",
       "</table>\n",
       "<p>2 rows × 72 columns</p>\n",
       "</div>"
      ],
      "text/plain": [
       "            TCS.NS_close  TCS.NS_high  TCS.NS_low  TCS.NS_width  TCS.NS_rsi  \\\n",
       "Date                                                                          \n",
       "2016-12-12     -1.209148    -1.217884   -1.219169     -0.758105    0.398318   \n",
       "2016-12-13     -1.213181    -1.217681   -1.208874     -0.811018    0.188074   \n",
       "\n",
       "            TCS.NS_roc  TCS.NS_volume  TCS.NS_diff  \\\n",
       "Date                                                 \n",
       "2016-12-12    0.489847      -0.565092     0.147699   \n",
       "2016-12-13    0.225403      -0.216110    -0.145681   \n",
       "\n",
       "            TCS.NS_percent_change_close  WIPRO.NS_close  ...  \\\n",
       "Date                                                     ...   \n",
       "2016-12-12                     0.353810       -1.078486  ...   \n",
       "2016-12-13                    -0.279877       -1.050415  ...   \n",
       "\n",
       "            ^CNXIT_percent_change_close  ^NSEI_close  ^NSEI_high  ^NSEI_low  \\\n",
       "Date                                                                          \n",
       "2016-12-12                    46.044367    -1.035195   -1.033337  -1.027708   \n",
       "2016-12-13                     0.035475    -1.023867   -1.033736  -1.027407   \n",
       "\n",
       "            ^NSEI_width  ^NSEI_rsi  ^NSEI_roc  ^NSEI_volume  ^NSEI_diff  \\\n",
       "Date                                                                      \n",
       "2016-12-12    -0.810070   0.230330   0.345788     -1.054888   -0.751940   \n",
       "2016-12-13    -0.838771   0.283735   0.407070     -0.670644    0.338399   \n",
       "\n",
       "            ^NSEI_percent_change_close  \n",
       "Date                                    \n",
       "2016-12-12                   -1.102555  \n",
       "2016-12-13                    0.545542  \n",
       "\n",
       "[2 rows x 72 columns]"
      ]
     },
     "execution_count": 7,
     "metadata": {},
     "output_type": "execute_result"
    }
   ],
   "source": [
    "df = pd.concat(ticker_data_frames, axis=1)\n",
    "df.replace([np.inf, -np.inf], np.nan, inplace=True)\n",
    "df.dropna(inplace=True)\n",
    "df.head(2)"
   ]
  },
  {
   "cell_type": "markdown",
   "metadata": {},
   "source": [
    "* add date end\n",
    "* add time to sequence"
   ]
  },
  {
   "cell_type": "code",
   "execution_count": 8,
   "metadata": {},
   "outputs": [
    {
     "data": {
      "text/plain": [
       "(1874, 72)"
      ]
     },
     "execution_count": 8,
     "metadata": {},
     "output_type": "execute_result"
    }
   ],
   "source": [
    "df.shape"
   ]
  },
  {
   "cell_type": "code",
   "execution_count": 9,
   "metadata": {},
   "outputs": [
    {
     "data": {
      "text/html": [
       "<div>\n",
       "<style scoped>\n",
       "    .dataframe tbody tr th:only-of-type {\n",
       "        vertical-align: middle;\n",
       "    }\n",
       "\n",
       "    .dataframe tbody tr th {\n",
       "        vertical-align: top;\n",
       "    }\n",
       "\n",
       "    .dataframe thead th {\n",
       "        text-align: right;\n",
       "    }\n",
       "</style>\n",
       "<table border=\"1\" class=\"dataframe\">\n",
       "  <thead>\n",
       "    <tr style=\"text-align: right;\">\n",
       "      <th></th>\n",
       "      <th>TCS.NS_close</th>\n",
       "      <th>TCS.NS_high</th>\n",
       "      <th>TCS.NS_low</th>\n",
       "      <th>TCS.NS_width</th>\n",
       "      <th>TCS.NS_rsi</th>\n",
       "      <th>TCS.NS_roc</th>\n",
       "      <th>TCS.NS_volume</th>\n",
       "      <th>TCS.NS_diff</th>\n",
       "      <th>TCS.NS_percent_change_close</th>\n",
       "      <th>WIPRO.NS_close</th>\n",
       "      <th>...</th>\n",
       "      <th>^CNXIT_percent_change_close</th>\n",
       "      <th>^NSEI_close</th>\n",
       "      <th>^NSEI_high</th>\n",
       "      <th>^NSEI_low</th>\n",
       "      <th>^NSEI_width</th>\n",
       "      <th>^NSEI_rsi</th>\n",
       "      <th>^NSEI_roc</th>\n",
       "      <th>^NSEI_volume</th>\n",
       "      <th>^NSEI_diff</th>\n",
       "      <th>^NSEI_percent_change_close</th>\n",
       "    </tr>\n",
       "    <tr>\n",
       "      <th>Date</th>\n",
       "      <th></th>\n",
       "      <th></th>\n",
       "      <th></th>\n",
       "      <th></th>\n",
       "      <th></th>\n",
       "      <th></th>\n",
       "      <th></th>\n",
       "      <th></th>\n",
       "      <th></th>\n",
       "      <th></th>\n",
       "      <th></th>\n",
       "      <th></th>\n",
       "      <th></th>\n",
       "      <th></th>\n",
       "      <th></th>\n",
       "      <th></th>\n",
       "      <th></th>\n",
       "      <th></th>\n",
       "      <th></th>\n",
       "      <th></th>\n",
       "      <th></th>\n",
       "    </tr>\n",
       "  </thead>\n",
       "  <tbody>\n",
       "    <tr>\n",
       "      <th>2016-12-12</th>\n",
       "      <td>-1.209148</td>\n",
       "      <td>-1.217884</td>\n",
       "      <td>-1.219169</td>\n",
       "      <td>-0.758105</td>\n",
       "      <td>0.398318</td>\n",
       "      <td>0.489847</td>\n",
       "      <td>-0.565092</td>\n",
       "      <td>0.147699</td>\n",
       "      <td>0.353810</td>\n",
       "      <td>-1.078486</td>\n",
       "      <td>...</td>\n",
       "      <td>46.044367</td>\n",
       "      <td>-1.035195</td>\n",
       "      <td>-1.033337</td>\n",
       "      <td>-1.027708</td>\n",
       "      <td>-0.810070</td>\n",
       "      <td>0.230330</td>\n",
       "      <td>0.345788</td>\n",
       "      <td>-1.054888</td>\n",
       "      <td>-0.751940</td>\n",
       "      <td>-1.102555</td>\n",
       "    </tr>\n",
       "    <tr>\n",
       "      <th>2016-12-13</th>\n",
       "      <td>-1.213181</td>\n",
       "      <td>-1.217681</td>\n",
       "      <td>-1.208874</td>\n",
       "      <td>-0.811018</td>\n",
       "      <td>0.188074</td>\n",
       "      <td>0.225403</td>\n",
       "      <td>-0.216110</td>\n",
       "      <td>-0.145681</td>\n",
       "      <td>-0.279877</td>\n",
       "      <td>-1.050415</td>\n",
       "      <td>...</td>\n",
       "      <td>0.035475</td>\n",
       "      <td>-1.023867</td>\n",
       "      <td>-1.033736</td>\n",
       "      <td>-1.027407</td>\n",
       "      <td>-0.838771</td>\n",
       "      <td>0.283735</td>\n",
       "      <td>0.407070</td>\n",
       "      <td>-0.670644</td>\n",
       "      <td>0.338399</td>\n",
       "      <td>0.545542</td>\n",
       "    </tr>\n",
       "    <tr>\n",
       "      <th>2016-12-14</th>\n",
       "      <td>-1.209454</td>\n",
       "      <td>-1.214288</td>\n",
       "      <td>-1.205785</td>\n",
       "      <td>-0.825229</td>\n",
       "      <td>0.003718</td>\n",
       "      <td>0.004189</td>\n",
       "      <td>-0.331843</td>\n",
       "      <td>0.068199</td>\n",
       "      <td>0.181201</td>\n",
       "      <td>-1.043398</td>\n",
       "      <td>...</td>\n",
       "      <td>0.015493</td>\n",
       "      <td>-1.032607</td>\n",
       "      <td>-1.033614</td>\n",
       "      <td>-1.025332</td>\n",
       "      <td>-1.028423</td>\n",
       "      <td>0.403327</td>\n",
       "      <td>0.503033</td>\n",
       "      <td>-0.870107</td>\n",
       "      <td>-0.355589</td>\n",
       "      <td>-0.508050</td>\n",
       "    </tr>\n",
       "    <tr>\n",
       "      <th>2016-12-15</th>\n",
       "      <td>-1.183059</td>\n",
       "      <td>-1.190280</td>\n",
       "      <td>-1.199093</td>\n",
       "      <td>-0.898984</td>\n",
       "      <td>-0.570700</td>\n",
       "      <td>-0.501639</td>\n",
       "      <td>0.680746</td>\n",
       "      <td>0.692954</td>\n",
       "      <td>1.525346</td>\n",
       "      <td>-1.043948</td>\n",
       "      <td>...</td>\n",
       "      <td>0.013265</td>\n",
       "      <td>-1.039015</td>\n",
       "      <td>-1.034389</td>\n",
       "      <td>-1.034962</td>\n",
       "      <td>-1.045431</td>\n",
       "      <td>-0.186896</td>\n",
       "      <td>-0.066754</td>\n",
       "      <td>-0.681782</td>\n",
       "      <td>-0.274941</td>\n",
       "      <td>-0.387654</td>\n",
       "    </tr>\n",
       "    <tr>\n",
       "      <th>2016-12-16</th>\n",
       "      <td>-1.171137</td>\n",
       "      <td>-1.181214</td>\n",
       "      <td>-1.173355</td>\n",
       "      <td>-0.898883</td>\n",
       "      <td>-0.156507</td>\n",
       "      <td>-0.161825</td>\n",
       "      <td>-0.283046</td>\n",
       "      <td>0.294037</td>\n",
       "      <td>0.650433</td>\n",
       "      <td>-1.051103</td>\n",
       "      <td>...</td>\n",
       "      <td>-0.008936</td>\n",
       "      <td>-1.042158</td>\n",
       "      <td>-1.044836</td>\n",
       "      <td>-1.033734</td>\n",
       "      <td>-1.051414</td>\n",
       "      <td>-0.294784</td>\n",
       "      <td>-0.150698</td>\n",
       "      <td>-0.574457</td>\n",
       "      <td>-0.162026</td>\n",
       "      <td>-0.216596</td>\n",
       "    </tr>\n",
       "  </tbody>\n",
       "</table>\n",
       "<p>5 rows × 72 columns</p>\n",
       "</div>"
      ],
      "text/plain": [
       "            TCS.NS_close  TCS.NS_high  TCS.NS_low  TCS.NS_width  TCS.NS_rsi  \\\n",
       "Date                                                                          \n",
       "2016-12-12     -1.209148    -1.217884   -1.219169     -0.758105    0.398318   \n",
       "2016-12-13     -1.213181    -1.217681   -1.208874     -0.811018    0.188074   \n",
       "2016-12-14     -1.209454    -1.214288   -1.205785     -0.825229    0.003718   \n",
       "2016-12-15     -1.183059    -1.190280   -1.199093     -0.898984   -0.570700   \n",
       "2016-12-16     -1.171137    -1.181214   -1.173355     -0.898883   -0.156507   \n",
       "\n",
       "            TCS.NS_roc  TCS.NS_volume  TCS.NS_diff  \\\n",
       "Date                                                 \n",
       "2016-12-12    0.489847      -0.565092     0.147699   \n",
       "2016-12-13    0.225403      -0.216110    -0.145681   \n",
       "2016-12-14    0.004189      -0.331843     0.068199   \n",
       "2016-12-15   -0.501639       0.680746     0.692954   \n",
       "2016-12-16   -0.161825      -0.283046     0.294037   \n",
       "\n",
       "            TCS.NS_percent_change_close  WIPRO.NS_close  ...  \\\n",
       "Date                                                     ...   \n",
       "2016-12-12                     0.353810       -1.078486  ...   \n",
       "2016-12-13                    -0.279877       -1.050415  ...   \n",
       "2016-12-14                     0.181201       -1.043398  ...   \n",
       "2016-12-15                     1.525346       -1.043948  ...   \n",
       "2016-12-16                     0.650433       -1.051103  ...   \n",
       "\n",
       "            ^CNXIT_percent_change_close  ^NSEI_close  ^NSEI_high  ^NSEI_low  \\\n",
       "Date                                                                          \n",
       "2016-12-12                    46.044367    -1.035195   -1.033337  -1.027708   \n",
       "2016-12-13                     0.035475    -1.023867   -1.033736  -1.027407   \n",
       "2016-12-14                     0.015493    -1.032607   -1.033614  -1.025332   \n",
       "2016-12-15                     0.013265    -1.039015   -1.034389  -1.034962   \n",
       "2016-12-16                    -0.008936    -1.042158   -1.044836  -1.033734   \n",
       "\n",
       "            ^NSEI_width  ^NSEI_rsi  ^NSEI_roc  ^NSEI_volume  ^NSEI_diff  \\\n",
       "Date                                                                      \n",
       "2016-12-12    -0.810070   0.230330   0.345788     -1.054888   -0.751940   \n",
       "2016-12-13    -0.838771   0.283735   0.407070     -0.670644    0.338399   \n",
       "2016-12-14    -1.028423   0.403327   0.503033     -0.870107   -0.355589   \n",
       "2016-12-15    -1.045431  -0.186896  -0.066754     -0.681782   -0.274941   \n",
       "2016-12-16    -1.051414  -0.294784  -0.150698     -0.574457   -0.162026   \n",
       "\n",
       "            ^NSEI_percent_change_close  \n",
       "Date                                    \n",
       "2016-12-12                   -1.102555  \n",
       "2016-12-13                    0.545542  \n",
       "2016-12-14                   -0.508050  \n",
       "2016-12-15                   -0.387654  \n",
       "2016-12-16                   -0.216596  \n",
       "\n",
       "[5 rows x 72 columns]"
      ]
     },
     "execution_count": 9,
     "metadata": {},
     "output_type": "execute_result"
    }
   ],
   "source": [
    "df.head()"
   ]
  },
  {
   "cell_type": "code",
   "execution_count": 10,
   "metadata": {},
   "outputs": [
    {
     "data": {
      "text/plain": [
       "46.044367317233245"
      ]
     },
     "execution_count": 10,
     "metadata": {},
     "output_type": "execute_result"
    }
   ],
   "source": [
    "df.max().max()"
   ]
  },
  {
   "cell_type": "code",
   "execution_count": 11,
   "metadata": {},
   "outputs": [],
   "source": [
    "from dataset import Dataset"
   ]
  },
  {
   "cell_type": "code",
   "execution_count": 12,
   "metadata": {},
   "outputs": [],
   "source": [
    "SEQUENCE_LEN = 15  # 15 days of data\n",
    "BATCH_SIZE = 24\n",
    "dataset = Dataset(df,SEQUENCE_LEN)\n"
   ]
  },
  {
   "cell_type": "code",
   "execution_count": 13,
   "metadata": {},
   "outputs": [],
   "source": [
    "\n",
    "train_size = int(0.8 * len(dataset))\n",
    "test_size = len(dataset) - train_size\n",
    "train_set, val_set = torch.utils.data.random_split(dataset, [train_size, test_size])\n",
    "\n",
    "train_dataloader = torch.utils.data.DataLoader(\n",
    "            train_set,\n",
    "            batch_size=BATCH_SIZE,\n",
    "            shuffle=True,num_workers=4,drop_last=True\n",
    ")\n",
    "val_dataloader = torch.utils.data.DataLoader(\n",
    "            val_set,\n",
    "            batch_size=BATCH_SIZE,\n",
    "            shuffle=True,num_workers=4,drop_last=True\n",
    ")"
   ]
  },
  {
   "cell_type": "code",
   "execution_count": 14,
   "metadata": {},
   "outputs": [
    {
     "data": {
      "text/plain": [
       "1858"
      ]
     },
     "execution_count": 14,
     "metadata": {},
     "output_type": "execute_result"
    }
   ],
   "source": [
    "len(dataset)"
   ]
  },
  {
   "cell_type": "code",
   "execution_count": 15,
   "metadata": {},
   "outputs": [],
   "source": [
    "def dir_acc(seq,y_true, y_pred):\n",
    "    y_true_prev = seq[:,-1,0]\n",
    "    y_true = y_true[:,0]\n",
    "    y_pred = y_pred[:,0]\n",
    "    # print(y_true.shape,y_true_prev.shape,y_pred.shape)\n",
    "    true_change = y_true - y_true_prev  # Calculate true change\n",
    "    pred_change = y_pred - y_true_prev  # Calculate predicted change\n",
    "    # print(torch.sign(true_change), torch.sign(pred_change))\n",
    "    correct_direction = torch.eq(torch.sign(true_change), torch.sign(pred_change))  # Check if the signs match\n",
    "    # print(correct_direction)\n",
    "    return torch.mean(torch.tensor(correct_direction).float())  # Return the mean of correct directionsb"
   ]
  },
  {
   "cell_type": "code",
   "execution_count": 16,
   "metadata": {},
   "outputs": [],
   "source": [
    "def directn_acc(y_true,y_pred):\n",
    "    # print(y_true,y_pred)\n",
    "    return (y_true==(y_pred>0.5)).sum()/len(y_true)"
   ]
  },
  {
   "cell_type": "code",
   "execution_count": 17,
   "metadata": {},
   "outputs": [],
   "source": [
    "from transformer_model import TransformerModel as CustomModel"
   ]
  },
  {
   "cell_type": "code",
   "execution_count": 21,
   "metadata": {},
   "outputs": [],
   "source": [
    "# Hyperparameters\n",
    "input_size = df.shape[1]\n",
    "output_size = 1 #len(tickers)\n",
    "num_layers = 4\n",
    "d_model = 16\n",
    "nhead = 4\n",
    "num_epochs = 50\n",
    "learning_rate = 0.001\n",
    "device = torch.device(\"cuda:7\" if torch.cuda.is_available() else \"cpu\")\n",
    "\n",
    "# Instantiate the model, loss function and optimizer\n",
    "model = CustomModel(input_size, output_size, d_model, nhead, num_layers)\n",
    "model.to(device)\n",
    "criterion = nn.BCELoss()\n",
    "optimizer = optim.Adam(model.parameters(), lr=learning_rate)\n",
    "\n",
    "# print(summary(model, (torch.zeros((input_size,15)))))"
   ]
  },
  {
   "cell_type": "code",
   "execution_count": 22,
   "metadata": {},
   "outputs": [
    {
     "name": "stderr",
     "output_type": "stream",
     "text": [
      "100%|██████████| 61/61 [00:02<00:00, 24.28it/s]\n",
      "100%|██████████| 61/61 [00:03<00:00, 17.23it/s]\n",
      "100%|██████████| 61/61 [00:05<00:00, 10.87it/s]\n"
     ]
    },
    {
     "name": "stdout",
     "output_type": "stream",
     "text": [
      "---------------Epoch:2 Train_loss:0.6271580457687378 Val_loss:0.6378880143165588 Dir Accuracy:f0.6500000357627869\n"
     ]
    },
    {
     "name": "stderr",
     "output_type": "stream",
     "text": [
      "100%|██████████| 61/61 [00:04<00:00, 12.51it/s]\n",
      "100%|██████████| 61/61 [00:04<00:00, 12.38it/s]\n",
      "100%|██████████| 61/61 [00:04<00:00, 13.60it/s]\n"
     ]
    },
    {
     "name": "stdout",
     "output_type": "stream",
     "text": [
      "---------------Epoch:5 Train_loss:0.5654814839363098 Val_loss:0.5848717093467712 Dir Accuracy:f0.7055556178092957\n"
     ]
    },
    {
     "name": "stderr",
     "output_type": "stream",
     "text": [
      "100%|██████████| 61/61 [00:01<00:00, 34.19it/s]\n",
      "100%|██████████| 61/61 [00:02<00:00, 21.41it/s]\n",
      "100%|██████████| 61/61 [00:03<00:00, 18.23it/s]\n"
     ]
    },
    {
     "name": "stdout",
     "output_type": "stream",
     "text": [
      "---------------Epoch:8 Train_loss:0.4628218710422516 Val_loss:0.5508499145507812 Dir Accuracy:f0.7166666388511658\n"
     ]
    },
    {
     "name": "stderr",
     "output_type": "stream",
     "text": [
      "100%|██████████| 61/61 [00:01<00:00, 36.27it/s]\n",
      "100%|██████████| 61/61 [00:01<00:00, 38.23it/s]\n",
      "100%|██████████| 61/61 [00:01<00:00, 37.14it/s]\n"
     ]
    },
    {
     "name": "stdout",
     "output_type": "stream",
     "text": [
      "---------------Epoch:11 Train_loss:0.37878602743148804 Val_loss:0.4851488471031189 Dir Accuracy:f0.8083333969116211\n"
     ]
    },
    {
     "name": "stderr",
     "output_type": "stream",
     "text": [
      "100%|██████████| 61/61 [00:03<00:00, 15.46it/s]\n",
      "100%|██████████| 61/61 [00:04<00:00, 15.23it/s]\n",
      "100%|██████████| 61/61 [00:03<00:00, 18.66it/s]\n"
     ]
    },
    {
     "name": "stdout",
     "output_type": "stream",
     "text": [
      "---------------Epoch:14 Train_loss:0.32010188698768616 Val_loss:0.4866156280040741 Dir Accuracy:f0.7972222566604614\n"
     ]
    },
    {
     "name": "stderr",
     "output_type": "stream",
     "text": [
      "100%|██████████| 61/61 [00:01<00:00, 33.14it/s]\n",
      "100%|██████████| 61/61 [00:03<00:00, 15.37it/s]\n",
      "100%|██████████| 61/61 [00:04<00:00, 13.30it/s]\n"
     ]
    },
    {
     "name": "stdout",
     "output_type": "stream",
     "text": [
      "---------------Epoch:17 Train_loss:0.25996676087379456 Val_loss:0.508361279964447 Dir Accuracy:f0.7944445013999939\n"
     ]
    },
    {
     "name": "stderr",
     "output_type": "stream",
     "text": [
      "100%|██████████| 61/61 [00:02<00:00, 26.53it/s]\n",
      "100%|██████████| 61/61 [00:04<00:00, 14.34it/s]\n",
      "100%|██████████| 61/61 [00:04<00:00, 14.86it/s]\n"
     ]
    },
    {
     "name": "stdout",
     "output_type": "stream",
     "text": [
      "---------------Epoch:20 Train_loss:0.2699526250362396 Val_loss:0.4765937626361847 Dir Accuracy:f0.7916666865348816\n"
     ]
    },
    {
     "name": "stderr",
     "output_type": "stream",
     "text": [
      "100%|██████████| 61/61 [00:02<00:00, 22.05it/s]\n",
      "100%|██████████| 61/61 [00:04<00:00, 14.94it/s]\n",
      "100%|██████████| 61/61 [00:01<00:00, 44.13it/s]\n"
     ]
    },
    {
     "name": "stdout",
     "output_type": "stream",
     "text": [
      "---------------Epoch:23 Train_loss:0.2268901914358139 Val_loss:0.5425188541412354 Dir Accuracy:f0.7805556654930115\n"
     ]
    },
    {
     "name": "stderr",
     "output_type": "stream",
     "text": [
      "100%|██████████| 61/61 [00:02<00:00, 20.47it/s]\n",
      "100%|██████████| 61/61 [00:04<00:00, 14.90it/s]\n",
      "100%|██████████| 61/61 [00:03<00:00, 15.51it/s]\n"
     ]
    },
    {
     "name": "stdout",
     "output_type": "stream",
     "text": [
      "---------------Epoch:26 Train_loss:0.21879814565181732 Val_loss:0.4533858299255371 Dir Accuracy:f0.8166667222976685\n"
     ]
    },
    {
     "name": "stderr",
     "output_type": "stream",
     "text": [
      "100%|██████████| 61/61 [00:01<00:00, 45.82it/s]\n",
      "100%|██████████| 61/61 [00:04<00:00, 15.19it/s]\n",
      "100%|██████████| 61/61 [00:01<00:00, 42.55it/s]\n"
     ]
    },
    {
     "name": "stdout",
     "output_type": "stream",
     "text": [
      "---------------Epoch:29 Train_loss:0.18511590361595154 Val_loss:0.5061006546020508 Dir Accuracy:f0.8083333373069763\n"
     ]
    },
    {
     "name": "stderr",
     "output_type": "stream",
     "text": [
      "100%|██████████| 61/61 [00:01<00:00, 38.15it/s]\n",
      "100%|██████████| 61/61 [00:01<00:00, 45.56it/s]\n",
      "100%|██████████| 61/61 [00:01<00:00, 42.00it/s]\n"
     ]
    },
    {
     "name": "stdout",
     "output_type": "stream",
     "text": [
      "---------------Epoch:32 Train_loss:0.1679581254720688 Val_loss:0.519120454788208 Dir Accuracy:f0.8222222924232483\n"
     ]
    },
    {
     "name": "stderr",
     "output_type": "stream",
     "text": [
      "100%|██████████| 61/61 [00:01<00:00, 40.05it/s]\n",
      "100%|██████████| 61/61 [00:01<00:00, 31.18it/s]\n",
      "100%|██████████| 61/61 [00:01<00:00, 39.39it/s]\n"
     ]
    },
    {
     "name": "stdout",
     "output_type": "stream",
     "text": [
      "---------------Epoch:35 Train_loss:0.1524675488471985 Val_loss:0.5023630857467651 Dir Accuracy:f0.8250000476837158\n"
     ]
    },
    {
     "name": "stderr",
     "output_type": "stream",
     "text": [
      "100%|██████████| 61/61 [00:04<00:00, 14.61it/s]\n",
      "100%|██████████| 61/61 [00:01<00:00, 33.12it/s]\n",
      "100%|██████████| 61/61 [00:03<00:00, 17.51it/s]\n"
     ]
    },
    {
     "name": "stdout",
     "output_type": "stream",
     "text": [
      "---------------Epoch:38 Train_loss:0.1443261057138443 Val_loss:0.49065452814102173 Dir Accuracy:f0.8388890027999878\n"
     ]
    },
    {
     "name": "stderr",
     "output_type": "stream",
     "text": [
      "100%|██████████| 61/61 [00:04<00:00, 15.21it/s]\n",
      "100%|██████████| 61/61 [00:04<00:00, 14.56it/s]\n",
      " 10%|▉         | 6/61 [00:00<00:03, 14.45it/s]"
     ]
    }
   ],
   "source": [
    "train_loss_avg = 100\n",
    "loss_test = 100\n",
    "avg_dir_accuracy = 0 \n",
    "# Training loop\n",
    "for epoch in range(num_epochs):\n",
    "    \n",
    "    model.train()\n",
    "    train_loss_avg = 0\n",
    "    for seq,target,mean,std in tqdm(train_dataloader):\n",
    "        optimizer.zero_grad()\n",
    "        seq = seq.to(device)\n",
    "        predictions = model(seq)\n",
    "        # print(predictions.squeeze(-1).shape)\n",
    "        # print(target.shape)\n",
    "        loss = criterion(predictions.squeeze(-1), target.to(device))\n",
    "        loss.backward()\n",
    "        optimizer.step()\n",
    "        train_loss_avg += loss / len(train_dataloader)\n",
    "\n",
    "    if (epoch + 1) % 3 == 0:\n",
    "        with torch.no_grad():\n",
    "            loss_test = 0\n",
    "            avg_dir_accuracy = 0\n",
    "            for data in val_dataloader:\n",
    "                seq,target,mean,std = data\n",
    "                predictions = model(seq.to(device))\n",
    "                # validation loss\n",
    "                batch_loss = criterion(predictions.squeeze(-1), target.to(device))\n",
    "                loss_test += batch_loss\n",
    "                # tst = directn_acc(seq.to(device),target.to(device),predictions)\n",
    "                # print('tst',tst)\n",
    "                # print(avg_dir_accuracy)\n",
    "                avg_dir_accuracy += directn_acc(target.to(device),predictions.squeeze(-1))\n",
    "            loss_test /= len(val_dataloader)\n",
    "            avg_dir_accuracy /= len(val_dataloader)\n",
    "        print ('-'*15 + f'Epoch:{epoch} Train_loss:{train_loss_avg} Val_loss:{loss_test} Dir Accuracy:f{avg_dir_accuracy}')"
   ]
  },
  {
   "cell_type": "code",
   "execution_count": null,
   "metadata": {},
   "outputs": [],
   "source": []
  },
  {
   "cell_type": "code",
   "execution_count": null,
   "metadata": {},
   "outputs": [],
   "source": []
  }
 ],
 "metadata": {
  "kernelspec": {
   "display_name": "Python 3",
   "language": "python",
   "name": "python3"
  },
  "language_info": {
   "codemirror_mode": {
    "name": "ipython",
    "version": 3
   },
   "file_extension": ".py",
   "mimetype": "text/x-python",
   "name": "python",
   "nbconvert_exporter": "python",
   "pygments_lexer": "ipython3",
   "version": "3.8.10"
  }
 },
 "nbformat": 4,
 "nbformat_minor": 2
}
